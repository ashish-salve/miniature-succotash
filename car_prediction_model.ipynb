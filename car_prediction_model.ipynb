{
 "cells": [
  {
   "cell_type": "code",
   "execution_count": 1,
   "id": "d208fdf3",
   "metadata": {},
   "outputs": [],
   "source": [
    "import warnings\n",
    "warnings.filterwarnings('ignore')"
   ]
  },
  {
   "cell_type": "markdown",
   "id": "5c9b5339",
   "metadata": {},
   "source": [
    "### Importing dataset"
   ]
  },
  {
   "cell_type": "code",
   "execution_count": 2,
   "id": "e1c516bc",
   "metadata": {},
   "outputs": [],
   "source": [
    "import pandas as pd\n",
    "import numpy as np"
   ]
  },
  {
   "cell_type": "code",
   "execution_count": 3,
   "id": "ac55d836",
   "metadata": {},
   "outputs": [
    {
     "data": {
      "text/html": [
       "<div>\n",
       "<style scoped>\n",
       "    .dataframe tbody tr th:only-of-type {\n",
       "        vertical-align: middle;\n",
       "    }\n",
       "\n",
       "    .dataframe tbody tr th {\n",
       "        vertical-align: top;\n",
       "    }\n",
       "\n",
       "    .dataframe thead th {\n",
       "        text-align: right;\n",
       "    }\n",
       "</style>\n",
       "<table border=\"1\" class=\"dataframe\">\n",
       "  <thead>\n",
       "    <tr style=\"text-align: right;\">\n",
       "      <th></th>\n",
       "      <th>Model</th>\n",
       "      <th>Fuel Type</th>\n",
       "      <th>Mileage</th>\n",
       "      <th>Owner</th>\n",
       "      <th>Location</th>\n",
       "      <th>Price</th>\n",
       "    </tr>\n",
       "  </thead>\n",
       "  <tbody>\n",
       "    <tr>\n",
       "      <th>0</th>\n",
       "      <td>Tata Indigo Ecs (2010)</td>\n",
       "      <td>PETROL</td>\n",
       "      <td>65000.0 KM</td>\n",
       "      <td>2nd</td>\n",
       "      <td>Shastri Nagar, Delhi</td>\n",
       "      <td>₹ 1,10,000</td>\n",
       "    </tr>\n",
       "    <tr>\n",
       "      <th>1</th>\n",
       "      <td>Maruti Suzuki Swift Dzire (2018)</td>\n",
       "      <td>DIESEL</td>\n",
       "      <td>32000.0 KM</td>\n",
       "      <td>1st</td>\n",
       "      <td>SR Nagar Colony, Tiruchirappalli</td>\n",
       "      <td>₹ 7,90,000</td>\n",
       "    </tr>\n",
       "    <tr>\n",
       "      <th>2</th>\n",
       "      <td>Maruti Suzuki Ertiga (2018)</td>\n",
       "      <td>DIESEL</td>\n",
       "      <td>48000.0 KM</td>\n",
       "      <td>1st</td>\n",
       "      <td>Noida Extension, Noida</td>\n",
       "      <td>₹ 7,35,000</td>\n",
       "    </tr>\n",
       "    <tr>\n",
       "      <th>3</th>\n",
       "      <td>Hyundai I10 (2013)</td>\n",
       "      <td>PETROL</td>\n",
       "      <td>68000.0 KM</td>\n",
       "      <td>2nd</td>\n",
       "      <td>Rohini, Delhi</td>\n",
       "      <td>₹ 2,25,000</td>\n",
       "    </tr>\n",
       "    <tr>\n",
       "      <th>4</th>\n",
       "      <td>Tata Nano (2015)</td>\n",
       "      <td>PETROL</td>\n",
       "      <td>22000.0 KM</td>\n",
       "      <td>1st</td>\n",
       "      <td>Sikar Industrial Area, Sikar</td>\n",
       "      <td>₹ 1,10,000</td>\n",
       "    </tr>\n",
       "    <tr>\n",
       "      <th>...</th>\n",
       "      <td>...</td>\n",
       "      <td>...</td>\n",
       "      <td>...</td>\n",
       "      <td>...</td>\n",
       "      <td>...</td>\n",
       "      <td>...</td>\n",
       "    </tr>\n",
       "    <tr>\n",
       "      <th>4692</th>\n",
       "      <td>Maruti Suzuki Swift (2011)</td>\n",
       "      <td>DIESEL</td>\n",
       "      <td>70000.0 KM</td>\n",
       "      <td>--</td>\n",
       "      <td>Laxman Puri, Lucknow</td>\n",
       "      <td>₹ 3,50,000</td>\n",
       "    </tr>\n",
       "    <tr>\n",
       "      <th>4693</th>\n",
       "      <td>Toyota Fortuner (2009)</td>\n",
       "      <td>DIESEL</td>\n",
       "      <td>140,000 KM</td>\n",
       "      <td>--</td>\n",
       "      <td>Laxman Puri, Lucknow</td>\n",
       "      <td>₹ 9,50,000</td>\n",
       "    </tr>\n",
       "    <tr>\n",
       "      <th>4694</th>\n",
       "      <td>Renault Kwid (2021)</td>\n",
       "      <td>PETROL</td>\n",
       "      <td>4000.0 KM</td>\n",
       "      <td>1st</td>\n",
       "      <td>Abu Lane, Meerut</td>\n",
       "      <td>₹ 4,25,000</td>\n",
       "    </tr>\n",
       "    <tr>\n",
       "      <th>4695</th>\n",
       "      <td>Maruti Suzuki Ignis (2019)</td>\n",
       "      <td>PETROL</td>\n",
       "      <td>17690.0 KM</td>\n",
       "      <td>1st</td>\n",
       "      <td>Indirapuram, Ghaziabad</td>\n",
       "      <td>₹ 5,25,000</td>\n",
       "    </tr>\n",
       "    <tr>\n",
       "      <th>4696</th>\n",
       "      <td>Ford Figo (2013)</td>\n",
       "      <td>DIESEL</td>\n",
       "      <td>78000.0 KM</td>\n",
       "      <td>1st</td>\n",
       "      <td>Sitapur, Sitapur</td>\n",
       "      <td>₹ 1,85,000</td>\n",
       "    </tr>\n",
       "  </tbody>\n",
       "</table>\n",
       "<p>4697 rows × 6 columns</p>\n",
       "</div>"
      ],
      "text/plain": [
       "                                 Model Fuel Type     Mileage Owner  \\\n",
       "0               Tata Indigo Ecs (2010)    PETROL  65000.0 KM   2nd   \n",
       "1     Maruti Suzuki Swift Dzire (2018)    DIESEL  32000.0 KM   1st   \n",
       "2          Maruti Suzuki Ertiga (2018)    DIESEL  48000.0 KM   1st   \n",
       "3                   Hyundai I10 (2013)    PETROL  68000.0 KM   2nd   \n",
       "4                     Tata Nano (2015)    PETROL  22000.0 KM   1st   \n",
       "...                                ...       ...         ...   ...   \n",
       "4692        Maruti Suzuki Swift (2011)    DIESEL  70000.0 KM    --   \n",
       "4693            Toyota Fortuner (2009)    DIESEL  140,000 KM    --   \n",
       "4694               Renault Kwid (2021)    PETROL   4000.0 KM   1st   \n",
       "4695        Maruti Suzuki Ignis (2019)    PETROL  17690.0 KM   1st   \n",
       "4696                  Ford Figo (2013)    DIESEL  78000.0 KM   1st   \n",
       "\n",
       "                              Location       Price  \n",
       "0                 Shastri Nagar, Delhi  ₹ 1,10,000  \n",
       "1     SR Nagar Colony, Tiruchirappalli  ₹ 7,90,000  \n",
       "2               Noida Extension, Noida  ₹ 7,35,000  \n",
       "3                        Rohini, Delhi  ₹ 2,25,000  \n",
       "4         Sikar Industrial Area, Sikar  ₹ 1,10,000  \n",
       "...                                ...         ...  \n",
       "4692              Laxman Puri, Lucknow  ₹ 3,50,000  \n",
       "4693              Laxman Puri, Lucknow  ₹ 9,50,000  \n",
       "4694                  Abu Lane, Meerut  ₹ 4,25,000  \n",
       "4695            Indirapuram, Ghaziabad  ₹ 5,25,000  \n",
       "4696                  Sitapur, Sitapur  ₹ 1,85,000  \n",
       "\n",
       "[4697 rows x 6 columns]"
      ]
     },
     "execution_count": 3,
     "metadata": {},
     "output_type": "execute_result"
    }
   ],
   "source": [
    "df = pd.read_csv('olx_cars_final_4.csv',index_col=None)\n",
    "df"
   ]
  },
  {
   "cell_type": "markdown",
   "id": "7931b509",
   "metadata": {},
   "source": [
    "### Descriptive Analysis"
   ]
  },
  {
   "cell_type": "code",
   "execution_count": 4,
   "id": "7bf977d5",
   "metadata": {},
   "outputs": [
    {
     "data": {
      "text/html": [
       "<div>\n",
       "<style scoped>\n",
       "    .dataframe tbody tr th:only-of-type {\n",
       "        vertical-align: middle;\n",
       "    }\n",
       "\n",
       "    .dataframe tbody tr th {\n",
       "        vertical-align: top;\n",
       "    }\n",
       "\n",
       "    .dataframe thead th {\n",
       "        text-align: right;\n",
       "    }\n",
       "</style>\n",
       "<table border=\"1\" class=\"dataframe\">\n",
       "  <thead>\n",
       "    <tr style=\"text-align: right;\">\n",
       "      <th></th>\n",
       "      <th>Model</th>\n",
       "      <th>Fuel Type</th>\n",
       "      <th>Mileage</th>\n",
       "      <th>Owner</th>\n",
       "      <th>Location</th>\n",
       "      <th>Price</th>\n",
       "    </tr>\n",
       "  </thead>\n",
       "  <tbody>\n",
       "    <tr>\n",
       "      <th>0</th>\n",
       "      <td>Tata Indigo Ecs (2010)</td>\n",
       "      <td>PETROL</td>\n",
       "      <td>65000.0 KM</td>\n",
       "      <td>2nd</td>\n",
       "      <td>Shastri Nagar, Delhi</td>\n",
       "      <td>₹ 1,10,000</td>\n",
       "    </tr>\n",
       "    <tr>\n",
       "      <th>1</th>\n",
       "      <td>Maruti Suzuki Swift Dzire (2018)</td>\n",
       "      <td>DIESEL</td>\n",
       "      <td>32000.0 KM</td>\n",
       "      <td>1st</td>\n",
       "      <td>SR Nagar Colony, Tiruchirappalli</td>\n",
       "      <td>₹ 7,90,000</td>\n",
       "    </tr>\n",
       "    <tr>\n",
       "      <th>2</th>\n",
       "      <td>Maruti Suzuki Ertiga (2018)</td>\n",
       "      <td>DIESEL</td>\n",
       "      <td>48000.0 KM</td>\n",
       "      <td>1st</td>\n",
       "      <td>Noida Extension, Noida</td>\n",
       "      <td>₹ 7,35,000</td>\n",
       "    </tr>\n",
       "    <tr>\n",
       "      <th>3</th>\n",
       "      <td>Hyundai I10 (2013)</td>\n",
       "      <td>PETROL</td>\n",
       "      <td>68000.0 KM</td>\n",
       "      <td>2nd</td>\n",
       "      <td>Rohini, Delhi</td>\n",
       "      <td>₹ 2,25,000</td>\n",
       "    </tr>\n",
       "    <tr>\n",
       "      <th>4</th>\n",
       "      <td>Tata Nano (2015)</td>\n",
       "      <td>PETROL</td>\n",
       "      <td>22000.0 KM</td>\n",
       "      <td>1st</td>\n",
       "      <td>Sikar Industrial Area, Sikar</td>\n",
       "      <td>₹ 1,10,000</td>\n",
       "    </tr>\n",
       "    <tr>\n",
       "      <th>...</th>\n",
       "      <td>...</td>\n",
       "      <td>...</td>\n",
       "      <td>...</td>\n",
       "      <td>...</td>\n",
       "      <td>...</td>\n",
       "      <td>...</td>\n",
       "    </tr>\n",
       "    <tr>\n",
       "      <th>4692</th>\n",
       "      <td>Maruti Suzuki Swift (2011)</td>\n",
       "      <td>DIESEL</td>\n",
       "      <td>70000.0 KM</td>\n",
       "      <td>--</td>\n",
       "      <td>Laxman Puri, Lucknow</td>\n",
       "      <td>₹ 3,50,000</td>\n",
       "    </tr>\n",
       "    <tr>\n",
       "      <th>4693</th>\n",
       "      <td>Toyota Fortuner (2009)</td>\n",
       "      <td>DIESEL</td>\n",
       "      <td>140,000 KM</td>\n",
       "      <td>--</td>\n",
       "      <td>Laxman Puri, Lucknow</td>\n",
       "      <td>₹ 9,50,000</td>\n",
       "    </tr>\n",
       "    <tr>\n",
       "      <th>4694</th>\n",
       "      <td>Renault Kwid (2021)</td>\n",
       "      <td>PETROL</td>\n",
       "      <td>4000.0 KM</td>\n",
       "      <td>1st</td>\n",
       "      <td>Abu Lane, Meerut</td>\n",
       "      <td>₹ 4,25,000</td>\n",
       "    </tr>\n",
       "    <tr>\n",
       "      <th>4695</th>\n",
       "      <td>Maruti Suzuki Ignis (2019)</td>\n",
       "      <td>PETROL</td>\n",
       "      <td>17690.0 KM</td>\n",
       "      <td>1st</td>\n",
       "      <td>Indirapuram, Ghaziabad</td>\n",
       "      <td>₹ 5,25,000</td>\n",
       "    </tr>\n",
       "    <tr>\n",
       "      <th>4696</th>\n",
       "      <td>Ford Figo (2013)</td>\n",
       "      <td>DIESEL</td>\n",
       "      <td>78000.0 KM</td>\n",
       "      <td>1st</td>\n",
       "      <td>Sitapur, Sitapur</td>\n",
       "      <td>₹ 1,85,000</td>\n",
       "    </tr>\n",
       "  </tbody>\n",
       "</table>\n",
       "<p>4697 rows × 6 columns</p>\n",
       "</div>"
      ],
      "text/plain": [
       "                                 Model Fuel Type     Mileage Owner  \\\n",
       "0               Tata Indigo Ecs (2010)    PETROL  65000.0 KM   2nd   \n",
       "1     Maruti Suzuki Swift Dzire (2018)    DIESEL  32000.0 KM   1st   \n",
       "2          Maruti Suzuki Ertiga (2018)    DIESEL  48000.0 KM   1st   \n",
       "3                   Hyundai I10 (2013)    PETROL  68000.0 KM   2nd   \n",
       "4                     Tata Nano (2015)    PETROL  22000.0 KM   1st   \n",
       "...                                ...       ...         ...   ...   \n",
       "4692        Maruti Suzuki Swift (2011)    DIESEL  70000.0 KM    --   \n",
       "4693            Toyota Fortuner (2009)    DIESEL  140,000 KM    --   \n",
       "4694               Renault Kwid (2021)    PETROL   4000.0 KM   1st   \n",
       "4695        Maruti Suzuki Ignis (2019)    PETROL  17690.0 KM   1st   \n",
       "4696                  Ford Figo (2013)    DIESEL  78000.0 KM   1st   \n",
       "\n",
       "                              Location       Price  \n",
       "0                 Shastri Nagar, Delhi  ₹ 1,10,000  \n",
       "1     SR Nagar Colony, Tiruchirappalli  ₹ 7,90,000  \n",
       "2               Noida Extension, Noida  ₹ 7,35,000  \n",
       "3                        Rohini, Delhi  ₹ 2,25,000  \n",
       "4         Sikar Industrial Area, Sikar  ₹ 1,10,000  \n",
       "...                                ...         ...  \n",
       "4692              Laxman Puri, Lucknow  ₹ 3,50,000  \n",
       "4693              Laxman Puri, Lucknow  ₹ 9,50,000  \n",
       "4694                  Abu Lane, Meerut  ₹ 4,25,000  \n",
       "4695            Indirapuram, Ghaziabad  ₹ 5,25,000  \n",
       "4696                  Sitapur, Sitapur  ₹ 1,85,000  \n",
       "\n",
       "[4697 rows x 6 columns]"
      ]
     },
     "execution_count": 4,
     "metadata": {},
     "output_type": "execute_result"
    }
   ],
   "source": [
    "temp_df = df.copy(deep=True)\n",
    "temp_df"
   ]
  },
  {
   "cell_type": "markdown",
   "id": "b7e0e041",
   "metadata": {},
   "source": [
    "**We have created a copy of original dataframe to keep original data undisturbed.**"
   ]
  },
  {
   "cell_type": "code",
   "execution_count": 5,
   "id": "285c0025",
   "metadata": {},
   "outputs": [
    {
     "name": "stdout",
     "output_type": "stream",
     "text": [
      "We have 4697 rows of data divided amongst 6 features.\n"
     ]
    }
   ],
   "source": [
    "temp_df.shape\n",
    "print(\"We have {} rows of data divided amongst {} features.\".format(temp_df.shape[0],temp_df.shape[1]))"
   ]
  },
  {
   "cell_type": "code",
   "execution_count": 6,
   "id": "b1b1bd1d",
   "metadata": {},
   "outputs": [
    {
     "data": {
      "text/html": [
       "<div>\n",
       "<style scoped>\n",
       "    .dataframe tbody tr th:only-of-type {\n",
       "        vertical-align: middle;\n",
       "    }\n",
       "\n",
       "    .dataframe tbody tr th {\n",
       "        vertical-align: top;\n",
       "    }\n",
       "\n",
       "    .dataframe thead th {\n",
       "        text-align: right;\n",
       "    }\n",
       "</style>\n",
       "<table border=\"1\" class=\"dataframe\">\n",
       "  <thead>\n",
       "    <tr style=\"text-align: right;\">\n",
       "      <th></th>\n",
       "      <th>Model</th>\n",
       "      <th>Fuel Type</th>\n",
       "      <th>Mileage</th>\n",
       "      <th>Owner</th>\n",
       "      <th>Location</th>\n",
       "      <th>Price</th>\n",
       "    </tr>\n",
       "  </thead>\n",
       "  <tbody>\n",
       "    <tr>\n",
       "      <th>48</th>\n",
       "      <td>Maruti Suzuki Celerio (2017)</td>\n",
       "      <td>PETROL</td>\n",
       "      <td>41000.0 KM</td>\n",
       "      <td>1st</td>\n",
       "      <td>Rohini Sector 4, Delhi</td>\n",
       "      <td>₹ 4,25,000</td>\n",
       "    </tr>\n",
       "    <tr>\n",
       "      <th>50</th>\n",
       "      <td>Volkswagen Vento (2012)</td>\n",
       "      <td>DIESEL</td>\n",
       "      <td>55000.0 KM</td>\n",
       "      <td>1st</td>\n",
       "      <td>Karol Bagh, Delhi</td>\n",
       "      <td>₹ 3,40,000</td>\n",
       "    </tr>\n",
       "    <tr>\n",
       "      <th>71</th>\n",
       "      <td>Hyundai I10 (2013)</td>\n",
       "      <td>PETROL</td>\n",
       "      <td>68000.0 KM</td>\n",
       "      <td>2nd</td>\n",
       "      <td>Rohini, Delhi</td>\n",
       "      <td>₹ 2,25,000</td>\n",
       "    </tr>\n",
       "    <tr>\n",
       "      <th>72</th>\n",
       "      <td>Toyota Fortuner (2015)</td>\n",
       "      <td>DIESEL</td>\n",
       "      <td>128000.0 KM</td>\n",
       "      <td>1st</td>\n",
       "      <td>Kirti Nagar, Delhi</td>\n",
       "      <td>₹ 16,50,000</td>\n",
       "    </tr>\n",
       "    <tr>\n",
       "      <th>104</th>\n",
       "      <td>Tata Safari Storme (2012)</td>\n",
       "      <td>DIESEL</td>\n",
       "      <td>80000.0 KM</td>\n",
       "      <td>1st</td>\n",
       "      <td>Darshan Vihar, Delhi</td>\n",
       "      <td>₹ 4,00,000</td>\n",
       "    </tr>\n",
       "    <tr>\n",
       "      <th>...</th>\n",
       "      <td>...</td>\n",
       "      <td>...</td>\n",
       "      <td>...</td>\n",
       "      <td>...</td>\n",
       "      <td>...</td>\n",
       "      <td>...</td>\n",
       "    </tr>\n",
       "    <tr>\n",
       "      <th>4610</th>\n",
       "      <td>Maruti Suzuki Ertiga (2014)</td>\n",
       "      <td>DIESEL</td>\n",
       "      <td>55588.0 KM</td>\n",
       "      <td>1st</td>\n",
       "      <td>Jhandewalan, Delhi</td>\n",
       "      <td>₹ 5,00,000</td>\n",
       "    </tr>\n",
       "    <tr>\n",
       "      <th>4611</th>\n",
       "      <td>Chevrolet Beat (2013)</td>\n",
       "      <td>DIESEL</td>\n",
       "      <td>61000.0 KM</td>\n",
       "      <td>1st</td>\n",
       "      <td>Jhandewalan, Delhi</td>\n",
       "      <td>₹ 1,75,000</td>\n",
       "    </tr>\n",
       "    <tr>\n",
       "      <th>4614</th>\n",
       "      <td>Ford Ecosport (2017)</td>\n",
       "      <td>DIESEL</td>\n",
       "      <td>57000.0 KM</td>\n",
       "      <td>1st</td>\n",
       "      <td>Adajan, Surat</td>\n",
       "      <td>₹ 7,30,000</td>\n",
       "    </tr>\n",
       "    <tr>\n",
       "      <th>4621</th>\n",
       "      <td>Maruti Suzuki Vitara Brezza (2016)</td>\n",
       "      <td>DIESEL</td>\n",
       "      <td>90000.0 KM</td>\n",
       "      <td>1st</td>\n",
       "      <td>Adarsh Nagar, Faizabad</td>\n",
       "      <td>₹ 5,95,000</td>\n",
       "    </tr>\n",
       "    <tr>\n",
       "      <th>4633</th>\n",
       "      <td>Maruti Suzuki Alto 800 (2016)</td>\n",
       "      <td>PETROL</td>\n",
       "      <td>62000.0 KM</td>\n",
       "      <td>2nd</td>\n",
       "      <td>Lohia Nagar, Ghaziabad</td>\n",
       "      <td>₹ 2,25,000</td>\n",
       "    </tr>\n",
       "  </tbody>\n",
       "</table>\n",
       "<p>219 rows × 6 columns</p>\n",
       "</div>"
      ],
      "text/plain": [
       "                                   Model Fuel Type      Mileage Owner  \\\n",
       "48          Maruti Suzuki Celerio (2017)    PETROL   41000.0 KM   1st   \n",
       "50               Volkswagen Vento (2012)    DIESEL   55000.0 KM   1st   \n",
       "71                    Hyundai I10 (2013)    PETROL   68000.0 KM   2nd   \n",
       "72                Toyota Fortuner (2015)    DIESEL  128000.0 KM   1st   \n",
       "104            Tata Safari Storme (2012)    DIESEL   80000.0 KM   1st   \n",
       "...                                  ...       ...          ...   ...   \n",
       "4610         Maruti Suzuki Ertiga (2014)    DIESEL   55588.0 KM   1st   \n",
       "4611               Chevrolet Beat (2013)    DIESEL   61000.0 KM   1st   \n",
       "4614                Ford Ecosport (2017)    DIESEL   57000.0 KM   1st   \n",
       "4621  Maruti Suzuki Vitara Brezza (2016)    DIESEL   90000.0 KM   1st   \n",
       "4633       Maruti Suzuki Alto 800 (2016)    PETROL   62000.0 KM   2nd   \n",
       "\n",
       "                    Location        Price  \n",
       "48    Rohini Sector 4, Delhi   ₹ 4,25,000  \n",
       "50         Karol Bagh, Delhi   ₹ 3,40,000  \n",
       "71             Rohini, Delhi   ₹ 2,25,000  \n",
       "72        Kirti Nagar, Delhi  ₹ 16,50,000  \n",
       "104     Darshan Vihar, Delhi   ₹ 4,00,000  \n",
       "...                      ...          ...  \n",
       "4610      Jhandewalan, Delhi   ₹ 5,00,000  \n",
       "4611      Jhandewalan, Delhi   ₹ 1,75,000  \n",
       "4614           Adajan, Surat   ₹ 7,30,000  \n",
       "4621  Adarsh Nagar, Faizabad   ₹ 5,95,000  \n",
       "4633  Lohia Nagar, Ghaziabad   ₹ 2,25,000  \n",
       "\n",
       "[219 rows x 6 columns]"
      ]
     },
     "execution_count": 6,
     "metadata": {},
     "output_type": "execute_result"
    }
   ],
   "source": [
    "duplicates = temp_df[temp_df.duplicated()]\n",
    "duplicates"
   ]
  },
  {
   "cell_type": "markdown",
   "id": "1c1c6a5f",
   "metadata": {},
   "source": [
    "**If we assume that some of the car owners belonging to same locality may have same car and same expected price, but the Mileage can not be exactly same(It may happen, but the chances are few). So instead of considering duplicated records as seperate data entries, we will rempve those duplicated records.**"
   ]
  },
  {
   "cell_type": "code",
   "execution_count": 7,
   "id": "5f466981",
   "metadata": {},
   "outputs": [
    {
     "data": {
      "text/html": [
       "<div>\n",
       "<style scoped>\n",
       "    .dataframe tbody tr th:only-of-type {\n",
       "        vertical-align: middle;\n",
       "    }\n",
       "\n",
       "    .dataframe tbody tr th {\n",
       "        vertical-align: top;\n",
       "    }\n",
       "\n",
       "    .dataframe thead th {\n",
       "        text-align: right;\n",
       "    }\n",
       "</style>\n",
       "<table border=\"1\" class=\"dataframe\">\n",
       "  <thead>\n",
       "    <tr style=\"text-align: right;\">\n",
       "      <th></th>\n",
       "      <th>Model</th>\n",
       "      <th>Fuel Type</th>\n",
       "      <th>Mileage</th>\n",
       "      <th>Owner</th>\n",
       "      <th>Location</th>\n",
       "      <th>Price</th>\n",
       "    </tr>\n",
       "  </thead>\n",
       "  <tbody>\n",
       "    <tr>\n",
       "      <th>0</th>\n",
       "      <td>Tata Indigo Ecs (2010)</td>\n",
       "      <td>PETROL</td>\n",
       "      <td>65000.0 KM</td>\n",
       "      <td>2nd</td>\n",
       "      <td>Shastri Nagar, Delhi</td>\n",
       "      <td>₹ 1,10,000</td>\n",
       "    </tr>\n",
       "    <tr>\n",
       "      <th>1</th>\n",
       "      <td>Maruti Suzuki Swift Dzire (2018)</td>\n",
       "      <td>DIESEL</td>\n",
       "      <td>32000.0 KM</td>\n",
       "      <td>1st</td>\n",
       "      <td>SR Nagar Colony, Tiruchirappalli</td>\n",
       "      <td>₹ 7,90,000</td>\n",
       "    </tr>\n",
       "    <tr>\n",
       "      <th>2</th>\n",
       "      <td>Maruti Suzuki Ertiga (2018)</td>\n",
       "      <td>DIESEL</td>\n",
       "      <td>48000.0 KM</td>\n",
       "      <td>1st</td>\n",
       "      <td>Noida Extension, Noida</td>\n",
       "      <td>₹ 7,35,000</td>\n",
       "    </tr>\n",
       "    <tr>\n",
       "      <th>3</th>\n",
       "      <td>Hyundai I10 (2013)</td>\n",
       "      <td>PETROL</td>\n",
       "      <td>68000.0 KM</td>\n",
       "      <td>2nd</td>\n",
       "      <td>Rohini, Delhi</td>\n",
       "      <td>₹ 2,25,000</td>\n",
       "    </tr>\n",
       "    <tr>\n",
       "      <th>4</th>\n",
       "      <td>Tata Nano (2015)</td>\n",
       "      <td>PETROL</td>\n",
       "      <td>22000.0 KM</td>\n",
       "      <td>1st</td>\n",
       "      <td>Sikar Industrial Area, Sikar</td>\n",
       "      <td>₹ 1,10,000</td>\n",
       "    </tr>\n",
       "    <tr>\n",
       "      <th>...</th>\n",
       "      <td>...</td>\n",
       "      <td>...</td>\n",
       "      <td>...</td>\n",
       "      <td>...</td>\n",
       "      <td>...</td>\n",
       "      <td>...</td>\n",
       "    </tr>\n",
       "    <tr>\n",
       "      <th>4692</th>\n",
       "      <td>Maruti Suzuki Swift (2011)</td>\n",
       "      <td>DIESEL</td>\n",
       "      <td>70000.0 KM</td>\n",
       "      <td>--</td>\n",
       "      <td>Laxman Puri, Lucknow</td>\n",
       "      <td>₹ 3,50,000</td>\n",
       "    </tr>\n",
       "    <tr>\n",
       "      <th>4693</th>\n",
       "      <td>Toyota Fortuner (2009)</td>\n",
       "      <td>DIESEL</td>\n",
       "      <td>140,000 KM</td>\n",
       "      <td>--</td>\n",
       "      <td>Laxman Puri, Lucknow</td>\n",
       "      <td>₹ 9,50,000</td>\n",
       "    </tr>\n",
       "    <tr>\n",
       "      <th>4694</th>\n",
       "      <td>Renault Kwid (2021)</td>\n",
       "      <td>PETROL</td>\n",
       "      <td>4000.0 KM</td>\n",
       "      <td>1st</td>\n",
       "      <td>Abu Lane, Meerut</td>\n",
       "      <td>₹ 4,25,000</td>\n",
       "    </tr>\n",
       "    <tr>\n",
       "      <th>4695</th>\n",
       "      <td>Maruti Suzuki Ignis (2019)</td>\n",
       "      <td>PETROL</td>\n",
       "      <td>17690.0 KM</td>\n",
       "      <td>1st</td>\n",
       "      <td>Indirapuram, Ghaziabad</td>\n",
       "      <td>₹ 5,25,000</td>\n",
       "    </tr>\n",
       "    <tr>\n",
       "      <th>4696</th>\n",
       "      <td>Ford Figo (2013)</td>\n",
       "      <td>DIESEL</td>\n",
       "      <td>78000.0 KM</td>\n",
       "      <td>1st</td>\n",
       "      <td>Sitapur, Sitapur</td>\n",
       "      <td>₹ 1,85,000</td>\n",
       "    </tr>\n",
       "  </tbody>\n",
       "</table>\n",
       "<p>4478 rows × 6 columns</p>\n",
       "</div>"
      ],
      "text/plain": [
       "                                 Model Fuel Type     Mileage Owner  \\\n",
       "0               Tata Indigo Ecs (2010)    PETROL  65000.0 KM   2nd   \n",
       "1     Maruti Suzuki Swift Dzire (2018)    DIESEL  32000.0 KM   1st   \n",
       "2          Maruti Suzuki Ertiga (2018)    DIESEL  48000.0 KM   1st   \n",
       "3                   Hyundai I10 (2013)    PETROL  68000.0 KM   2nd   \n",
       "4                     Tata Nano (2015)    PETROL  22000.0 KM   1st   \n",
       "...                                ...       ...         ...   ...   \n",
       "4692        Maruti Suzuki Swift (2011)    DIESEL  70000.0 KM    --   \n",
       "4693            Toyota Fortuner (2009)    DIESEL  140,000 KM    --   \n",
       "4694               Renault Kwid (2021)    PETROL   4000.0 KM   1st   \n",
       "4695        Maruti Suzuki Ignis (2019)    PETROL  17690.0 KM   1st   \n",
       "4696                  Ford Figo (2013)    DIESEL  78000.0 KM   1st   \n",
       "\n",
       "                              Location       Price  \n",
       "0                 Shastri Nagar, Delhi  ₹ 1,10,000  \n",
       "1     SR Nagar Colony, Tiruchirappalli  ₹ 7,90,000  \n",
       "2               Noida Extension, Noida  ₹ 7,35,000  \n",
       "3                        Rohini, Delhi  ₹ 2,25,000  \n",
       "4         Sikar Industrial Area, Sikar  ₹ 1,10,000  \n",
       "...                                ...         ...  \n",
       "4692              Laxman Puri, Lucknow  ₹ 3,50,000  \n",
       "4693              Laxman Puri, Lucknow  ₹ 9,50,000  \n",
       "4694                  Abu Lane, Meerut  ₹ 4,25,000  \n",
       "4695            Indirapuram, Ghaziabad  ₹ 5,25,000  \n",
       "4696                  Sitapur, Sitapur  ₹ 1,85,000  \n",
       "\n",
       "[4478 rows x 6 columns]"
      ]
     },
     "execution_count": 7,
     "metadata": {},
     "output_type": "execute_result"
    }
   ],
   "source": [
    "temp_df.drop_duplicates(inplace=True)\n",
    "temp_df"
   ]
  },
  {
   "cell_type": "markdown",
   "id": "3f25ba1b",
   "metadata": {},
   "source": [
    "**We have removed the duplicated data and now we are ready for next step.**"
   ]
  },
  {
   "cell_type": "code",
   "execution_count": 8,
   "id": "6642ddd1",
   "metadata": {},
   "outputs": [
    {
     "name": "stdout",
     "output_type": "stream",
     "text": [
      "<class 'pandas.core.frame.DataFrame'>\n",
      "Int64Index: 4478 entries, 0 to 4696\n",
      "Data columns (total 6 columns):\n",
      " #   Column     Non-Null Count  Dtype \n",
      "---  ------     --------------  ----- \n",
      " 0   Model      4478 non-null   object\n",
      " 1   Fuel Type  4478 non-null   object\n",
      " 2   Mileage    4478 non-null   object\n",
      " 3   Owner      4478 non-null   object\n",
      " 4   Location   4478 non-null   object\n",
      " 5   Price      4478 non-null   object\n",
      "dtypes: object(6)\n",
      "memory usage: 244.9+ KB\n"
     ]
    }
   ],
   "source": [
    "temp_df.info()"
   ]
  },
  {
   "cell_type": "code",
   "execution_count": 9,
   "id": "8284d8a7",
   "metadata": {},
   "outputs": [
    {
     "name": "stdout",
     "output_type": "stream",
     "text": [
      "Our dataset have 4478 number of records divided among 5 independent features and 1 target feature.\n"
     ]
    }
   ],
   "source": [
    "print(\"Our dataset have {} number of records divided among 5 independent features and 1 target feature.\".format(temp_df.shape[0]))"
   ]
  },
  {
   "cell_type": "code",
   "execution_count": 10,
   "id": "e760088d",
   "metadata": {},
   "outputs": [
    {
     "data": {
      "text/plain": [
       "Model        0\n",
       "Fuel Type    0\n",
       "Mileage      0\n",
       "Owner        0\n",
       "Location     0\n",
       "Price        0\n",
       "dtype: int64"
      ]
     },
     "execution_count": 10,
     "metadata": {},
     "output_type": "execute_result"
    }
   ],
   "source": [
    "temp_df.isnull().sum()"
   ]
  },
  {
   "cell_type": "markdown",
   "id": "3ea65324",
   "metadata": {},
   "source": [
    "**We do not have any data missing in the format of np.nan.**"
   ]
  },
  {
   "cell_type": "code",
   "execution_count": 11,
   "id": "3f313cc6",
   "metadata": {},
   "outputs": [
    {
     "data": {
      "text/plain": [
       "Model          0\n",
       "Fuel Type     51\n",
       "Mileage        0\n",
       "Owner        173\n",
       "Location       0\n",
       "Price          0\n",
       "dtype: int64"
      ]
     },
     "execution_count": 11,
     "metadata": {},
     "output_type": "execute_result"
    }
   ],
   "source": [
    "temp_df.isin(['--']).sum()"
   ]
  },
  {
   "cell_type": "markdown",
   "id": "e6a72c0b",
   "metadata": {},
   "source": [
    "**We have missing values present in the format *'--'* for *Fuel Type* and *Owner* features. We will replace these values with SimpleImputer.**"
   ]
  },
  {
   "cell_type": "code",
   "execution_count": 12,
   "id": "1f2c7ecb",
   "metadata": {},
   "outputs": [
    {
     "data": {
      "text/html": [
       "<div>\n",
       "<style scoped>\n",
       "    .dataframe tbody tr th:only-of-type {\n",
       "        vertical-align: middle;\n",
       "    }\n",
       "\n",
       "    .dataframe tbody tr th {\n",
       "        vertical-align: top;\n",
       "    }\n",
       "\n",
       "    .dataframe thead th {\n",
       "        text-align: right;\n",
       "    }\n",
       "</style>\n",
       "<table border=\"1\" class=\"dataframe\">\n",
       "  <thead>\n",
       "    <tr style=\"text-align: right;\">\n",
       "      <th></th>\n",
       "      <th>Model</th>\n",
       "      <th>Fuel Type</th>\n",
       "      <th>Mileage</th>\n",
       "      <th>Owner</th>\n",
       "      <th>Location</th>\n",
       "      <th>Price</th>\n",
       "    </tr>\n",
       "  </thead>\n",
       "  <tbody>\n",
       "    <tr>\n",
       "      <th>0</th>\n",
       "      <td>Tata Indigo Ecs (2010)</td>\n",
       "      <td>PETROL</td>\n",
       "      <td>65000.0 KM</td>\n",
       "      <td>2nd</td>\n",
       "      <td>Shastri Nagar, Delhi</td>\n",
       "      <td>₹ 1,10,000</td>\n",
       "    </tr>\n",
       "    <tr>\n",
       "      <th>1</th>\n",
       "      <td>Maruti Suzuki Swift Dzire (2018)</td>\n",
       "      <td>DIESEL</td>\n",
       "      <td>32000.0 KM</td>\n",
       "      <td>1st</td>\n",
       "      <td>SR Nagar Colony, Tiruchirappalli</td>\n",
       "      <td>₹ 7,90,000</td>\n",
       "    </tr>\n",
       "    <tr>\n",
       "      <th>2</th>\n",
       "      <td>Maruti Suzuki Ertiga (2018)</td>\n",
       "      <td>DIESEL</td>\n",
       "      <td>48000.0 KM</td>\n",
       "      <td>1st</td>\n",
       "      <td>Noida Extension, Noida</td>\n",
       "      <td>₹ 7,35,000</td>\n",
       "    </tr>\n",
       "    <tr>\n",
       "      <th>3</th>\n",
       "      <td>Hyundai I10 (2013)</td>\n",
       "      <td>PETROL</td>\n",
       "      <td>68000.0 KM</td>\n",
       "      <td>2nd</td>\n",
       "      <td>Rohini, Delhi</td>\n",
       "      <td>₹ 2,25,000</td>\n",
       "    </tr>\n",
       "    <tr>\n",
       "      <th>4</th>\n",
       "      <td>Tata Nano (2015)</td>\n",
       "      <td>PETROL</td>\n",
       "      <td>22000.0 KM</td>\n",
       "      <td>1st</td>\n",
       "      <td>Sikar Industrial Area, Sikar</td>\n",
       "      <td>₹ 1,10,000</td>\n",
       "    </tr>\n",
       "    <tr>\n",
       "      <th>...</th>\n",
       "      <td>...</td>\n",
       "      <td>...</td>\n",
       "      <td>...</td>\n",
       "      <td>...</td>\n",
       "      <td>...</td>\n",
       "      <td>...</td>\n",
       "    </tr>\n",
       "    <tr>\n",
       "      <th>4692</th>\n",
       "      <td>Maruti Suzuki Swift (2011)</td>\n",
       "      <td>DIESEL</td>\n",
       "      <td>70000.0 KM</td>\n",
       "      <td>--</td>\n",
       "      <td>Laxman Puri, Lucknow</td>\n",
       "      <td>₹ 3,50,000</td>\n",
       "    </tr>\n",
       "    <tr>\n",
       "      <th>4693</th>\n",
       "      <td>Toyota Fortuner (2009)</td>\n",
       "      <td>DIESEL</td>\n",
       "      <td>140,000 KM</td>\n",
       "      <td>--</td>\n",
       "      <td>Laxman Puri, Lucknow</td>\n",
       "      <td>₹ 9,50,000</td>\n",
       "    </tr>\n",
       "    <tr>\n",
       "      <th>4694</th>\n",
       "      <td>Renault Kwid (2021)</td>\n",
       "      <td>PETROL</td>\n",
       "      <td>4000.0 KM</td>\n",
       "      <td>1st</td>\n",
       "      <td>Abu Lane, Meerut</td>\n",
       "      <td>₹ 4,25,000</td>\n",
       "    </tr>\n",
       "    <tr>\n",
       "      <th>4695</th>\n",
       "      <td>Maruti Suzuki Ignis (2019)</td>\n",
       "      <td>PETROL</td>\n",
       "      <td>17690.0 KM</td>\n",
       "      <td>1st</td>\n",
       "      <td>Indirapuram, Ghaziabad</td>\n",
       "      <td>₹ 5,25,000</td>\n",
       "    </tr>\n",
       "    <tr>\n",
       "      <th>4696</th>\n",
       "      <td>Ford Figo (2013)</td>\n",
       "      <td>DIESEL</td>\n",
       "      <td>78000.0 KM</td>\n",
       "      <td>1st</td>\n",
       "      <td>Sitapur, Sitapur</td>\n",
       "      <td>₹ 1,85,000</td>\n",
       "    </tr>\n",
       "  </tbody>\n",
       "</table>\n",
       "<p>4478 rows × 6 columns</p>\n",
       "</div>"
      ],
      "text/plain": [
       "                                 Model Fuel Type     Mileage Owner  \\\n",
       "0               Tata Indigo Ecs (2010)    PETROL  65000.0 KM   2nd   \n",
       "1     Maruti Suzuki Swift Dzire (2018)    DIESEL  32000.0 KM   1st   \n",
       "2          Maruti Suzuki Ertiga (2018)    DIESEL  48000.0 KM   1st   \n",
       "3                   Hyundai I10 (2013)    PETROL  68000.0 KM   2nd   \n",
       "4                     Tata Nano (2015)    PETROL  22000.0 KM   1st   \n",
       "...                                ...       ...         ...   ...   \n",
       "4692        Maruti Suzuki Swift (2011)    DIESEL  70000.0 KM    --   \n",
       "4693            Toyota Fortuner (2009)    DIESEL  140,000 KM    --   \n",
       "4694               Renault Kwid (2021)    PETROL   4000.0 KM   1st   \n",
       "4695        Maruti Suzuki Ignis (2019)    PETROL  17690.0 KM   1st   \n",
       "4696                  Ford Figo (2013)    DIESEL  78000.0 KM   1st   \n",
       "\n",
       "                              Location       Price  \n",
       "0                 Shastri Nagar, Delhi  ₹ 1,10,000  \n",
       "1     SR Nagar Colony, Tiruchirappalli  ₹ 7,90,000  \n",
       "2               Noida Extension, Noida  ₹ 7,35,000  \n",
       "3                        Rohini, Delhi  ₹ 2,25,000  \n",
       "4         Sikar Industrial Area, Sikar  ₹ 1,10,000  \n",
       "...                                ...         ...  \n",
       "4692              Laxman Puri, Lucknow  ₹ 3,50,000  \n",
       "4693              Laxman Puri, Lucknow  ₹ 9,50,000  \n",
       "4694                  Abu Lane, Meerut  ₹ 4,25,000  \n",
       "4695            Indirapuram, Ghaziabad  ₹ 5,25,000  \n",
       "4696                  Sitapur, Sitapur  ₹ 1,85,000  \n",
       "\n",
       "[4478 rows x 6 columns]"
      ]
     },
     "execution_count": 12,
     "metadata": {},
     "output_type": "execute_result"
    }
   ],
   "source": [
    "temp_df"
   ]
  },
  {
   "cell_type": "markdown",
   "id": "b925a443",
   "metadata": {},
   "source": [
    "**We have a problem with *Mileage* and *Price* features. They should be numerical datatype but they have been imported as object datatype. We will need to convert them for effective model building.**"
   ]
  },
  {
   "cell_type": "code",
   "execution_count": null,
   "id": "b145ec22",
   "metadata": {},
   "outputs": [],
   "source": []
  },
  {
   "cell_type": "code",
   "execution_count": 13,
   "id": "e7dfdb0e",
   "metadata": {},
   "outputs": [
    {
     "data": {
      "text/plain": [
       "Model        object\n",
       "Fuel Type    object\n",
       "Mileage      object\n",
       "Owner        object\n",
       "Location     object\n",
       "Price        object\n",
       "dtype: object"
      ]
     },
     "execution_count": 13,
     "metadata": {},
     "output_type": "execute_result"
    }
   ],
   "source": [
    "temp_df.dtypes"
   ]
  },
  {
   "cell_type": "markdown",
   "id": "d9b71354",
   "metadata": {},
   "source": [
    "**We need to convert *Mileage* and *Price* features to numerical datatype.**"
   ]
  },
  {
   "cell_type": "code",
   "execution_count": 14,
   "id": "5b9484cd",
   "metadata": {},
   "outputs": [
    {
     "data": {
      "text/html": [
       "<div>\n",
       "<style scoped>\n",
       "    .dataframe tbody tr th:only-of-type {\n",
       "        vertical-align: middle;\n",
       "    }\n",
       "\n",
       "    .dataframe tbody tr th {\n",
       "        vertical-align: top;\n",
       "    }\n",
       "\n",
       "    .dataframe thead th {\n",
       "        text-align: right;\n",
       "    }\n",
       "</style>\n",
       "<table border=\"1\" class=\"dataframe\">\n",
       "  <thead>\n",
       "    <tr style=\"text-align: right;\">\n",
       "      <th></th>\n",
       "      <th>Model</th>\n",
       "      <th>Fuel Type</th>\n",
       "      <th>Mileage</th>\n",
       "      <th>Owner</th>\n",
       "      <th>Location</th>\n",
       "      <th>Price</th>\n",
       "    </tr>\n",
       "  </thead>\n",
       "  <tbody>\n",
       "    <tr>\n",
       "      <th>count</th>\n",
       "      <td>4478</td>\n",
       "      <td>4478</td>\n",
       "      <td>4478</td>\n",
       "      <td>4478</td>\n",
       "      <td>4478</td>\n",
       "      <td>4478</td>\n",
       "    </tr>\n",
       "    <tr>\n",
       "      <th>unique</th>\n",
       "      <td>1328</td>\n",
       "      <td>9</td>\n",
       "      <td>1360</td>\n",
       "      <td>10</td>\n",
       "      <td>2249</td>\n",
       "      <td>748</td>\n",
       "    </tr>\n",
       "    <tr>\n",
       "      <th>top</th>\n",
       "      <td>Maruti Suzuki Swift (2014)</td>\n",
       "      <td>DIESEL</td>\n",
       "      <td>65000.0 KM</td>\n",
       "      <td>1st</td>\n",
       "      <td>Sector 37, Gurgaon</td>\n",
       "      <td>₹ 5,50,000</td>\n",
       "    </tr>\n",
       "    <tr>\n",
       "      <th>freq</th>\n",
       "      <td>26</td>\n",
       "      <td>2360</td>\n",
       "      <td>73</td>\n",
       "      <td>2574</td>\n",
       "      <td>57</td>\n",
       "      <td>69</td>\n",
       "    </tr>\n",
       "  </tbody>\n",
       "</table>\n",
       "</div>"
      ],
      "text/plain": [
       "                             Model Fuel Type     Mileage Owner  \\\n",
       "count                         4478      4478        4478  4478   \n",
       "unique                        1328         9        1360    10   \n",
       "top     Maruti Suzuki Swift (2014)    DIESEL  65000.0 KM   1st   \n",
       "freq                            26      2360          73  2574   \n",
       "\n",
       "                  Location       Price  \n",
       "count                 4478        4478  \n",
       "unique                2249         748  \n",
       "top     Sector 37, Gurgaon  ₹ 5,50,000  \n",
       "freq                    57          69  "
      ]
     },
     "execution_count": 14,
     "metadata": {},
     "output_type": "execute_result"
    }
   ],
   "source": [
    "temp_df.describe()"
   ]
  },
  {
   "cell_type": "code",
   "execution_count": 15,
   "id": "ff0acf0a",
   "metadata": {},
   "outputs": [
    {
     "name": "stdout",
     "output_type": "stream",
     "text": [
      "We observe that, 1328 unique car models are available.\n",
      "We have most of the cars with fuel type DIESEL.\n"
     ]
    }
   ],
   "source": [
    "print(\"We observe that, {} unique car models are available.\".format(temp_df.describe()['Model'][1]))\n",
    "print(\"We have most of the cars with fuel type {}.\".format(temp_df.describe()['Fuel Type'][2]))"
   ]
  },
  {
   "cell_type": "markdown",
   "id": "a04186ff",
   "metadata": {},
   "source": [
    "## Data Cleaning"
   ]
  },
  {
   "cell_type": "code",
   "execution_count": 16,
   "id": "295d2fb2",
   "metadata": {},
   "outputs": [],
   "source": [
    "from sklearn.model_selection import train_test_split"
   ]
  },
  {
   "cell_type": "code",
   "execution_count": 17,
   "id": "992832c1",
   "metadata": {},
   "outputs": [],
   "source": [
    "x = temp_df.drop('Price',axis='columns')\n",
    "y = temp_df['Price']"
   ]
  },
  {
   "cell_type": "code",
   "execution_count": 18,
   "id": "7804dbef",
   "metadata": {},
   "outputs": [
    {
     "data": {
      "text/html": [
       "<div>\n",
       "<style scoped>\n",
       "    .dataframe tbody tr th:only-of-type {\n",
       "        vertical-align: middle;\n",
       "    }\n",
       "\n",
       "    .dataframe tbody tr th {\n",
       "        vertical-align: top;\n",
       "    }\n",
       "\n",
       "    .dataframe thead th {\n",
       "        text-align: right;\n",
       "    }\n",
       "</style>\n",
       "<table border=\"1\" class=\"dataframe\">\n",
       "  <thead>\n",
       "    <tr style=\"text-align: right;\">\n",
       "      <th></th>\n",
       "      <th>Model</th>\n",
       "      <th>Fuel Type</th>\n",
       "      <th>Mileage</th>\n",
       "      <th>Owner</th>\n",
       "      <th>Location</th>\n",
       "    </tr>\n",
       "  </thead>\n",
       "  <tbody>\n",
       "    <tr>\n",
       "      <th>0</th>\n",
       "      <td>Tata Indigo Ecs (2010)</td>\n",
       "      <td>PETROL</td>\n",
       "      <td>65000.0 KM</td>\n",
       "      <td>2nd</td>\n",
       "      <td>Shastri Nagar, Delhi</td>\n",
       "    </tr>\n",
       "    <tr>\n",
       "      <th>1</th>\n",
       "      <td>Maruti Suzuki Swift Dzire (2018)</td>\n",
       "      <td>DIESEL</td>\n",
       "      <td>32000.0 KM</td>\n",
       "      <td>1st</td>\n",
       "      <td>SR Nagar Colony, Tiruchirappalli</td>\n",
       "    </tr>\n",
       "    <tr>\n",
       "      <th>2</th>\n",
       "      <td>Maruti Suzuki Ertiga (2018)</td>\n",
       "      <td>DIESEL</td>\n",
       "      <td>48000.0 KM</td>\n",
       "      <td>1st</td>\n",
       "      <td>Noida Extension, Noida</td>\n",
       "    </tr>\n",
       "  </tbody>\n",
       "</table>\n",
       "</div>"
      ],
      "text/plain": [
       "                              Model Fuel Type     Mileage Owner  \\\n",
       "0            Tata Indigo Ecs (2010)    PETROL  65000.0 KM   2nd   \n",
       "1  Maruti Suzuki Swift Dzire (2018)    DIESEL  32000.0 KM   1st   \n",
       "2       Maruti Suzuki Ertiga (2018)    DIESEL  48000.0 KM   1st   \n",
       "\n",
       "                           Location  \n",
       "0              Shastri Nagar, Delhi  \n",
       "1  SR Nagar Colony, Tiruchirappalli  \n",
       "2            Noida Extension, Noida  "
      ]
     },
     "execution_count": 18,
     "metadata": {},
     "output_type": "execute_result"
    }
   ],
   "source": [
    "x.head(3)"
   ]
  },
  {
   "cell_type": "code",
   "execution_count": 19,
   "id": "44309362",
   "metadata": {},
   "outputs": [
    {
     "data": {
      "text/plain": [
       "0    ₹ 1,10,000\n",
       "1    ₹ 7,90,000\n",
       "2    ₹ 7,35,000\n",
       "Name: Price, dtype: object"
      ]
     },
     "execution_count": 19,
     "metadata": {},
     "output_type": "execute_result"
    }
   ],
   "source": [
    "y.head(3)"
   ]
  },
  {
   "cell_type": "code",
   "execution_count": null,
   "id": "9e4b2b85",
   "metadata": {},
   "outputs": [],
   "source": []
  },
  {
   "cell_type": "code",
   "execution_count": 20,
   "id": "3e3cb29b",
   "metadata": {},
   "outputs": [],
   "source": [
    "x_train,x_test,y_train,y_test = train_test_split(x,y,test_size=.33,random_state=42)    "
   ]
  },
  {
   "cell_type": "code",
   "execution_count": 21,
   "id": "269d8016",
   "metadata": {},
   "outputs": [
    {
     "data": {
      "text/plain": [
       "(3000, 5)"
      ]
     },
     "execution_count": 21,
     "metadata": {},
     "output_type": "execute_result"
    }
   ],
   "source": [
    "x_train.shape"
   ]
  },
  {
   "cell_type": "code",
   "execution_count": 22,
   "id": "7d981885",
   "metadata": {},
   "outputs": [
    {
     "data": {
      "text/plain": [
       "(3000,)"
      ]
     },
     "execution_count": 22,
     "metadata": {},
     "output_type": "execute_result"
    }
   ],
   "source": [
    "y_train.shape"
   ]
  },
  {
   "cell_type": "code",
   "execution_count": 23,
   "id": "52b105e8",
   "metadata": {},
   "outputs": [
    {
     "data": {
      "text/plain": [
       "(1478, 5)"
      ]
     },
     "execution_count": 23,
     "metadata": {},
     "output_type": "execute_result"
    }
   ],
   "source": [
    "x_test.shape"
   ]
  },
  {
   "cell_type": "code",
   "execution_count": 24,
   "id": "75987dbe",
   "metadata": {},
   "outputs": [
    {
     "data": {
      "text/plain": [
       "(1478,)"
      ]
     },
     "execution_count": 24,
     "metadata": {},
     "output_type": "execute_result"
    }
   ],
   "source": [
    "y_test.shape"
   ]
  },
  {
   "cell_type": "markdown",
   "id": "97743a4f",
   "metadata": {},
   "source": [
    "**We have created a test set and we will keep it undisturbed during data preprocessing phase.**"
   ]
  },
  {
   "cell_type": "code",
   "execution_count": 25,
   "id": "c73bee7d",
   "metadata": {},
   "outputs": [
    {
     "data": {
      "text/plain": [
       "Model        object\n",
       "Fuel Type    object\n",
       "Mileage      object\n",
       "Owner        object\n",
       "Location     object\n",
       "dtype: object"
      ]
     },
     "execution_count": 25,
     "metadata": {},
     "output_type": "execute_result"
    }
   ],
   "source": [
    "x_train.dtypes"
   ]
  },
  {
   "cell_type": "code",
   "execution_count": 26,
   "id": "058a0f3d",
   "metadata": {},
   "outputs": [
    {
     "data": {
      "text/plain": [
       "1530    15001.0 KM\n",
       "2428    70000.0 KM\n",
       "3197    78500.0 KM\n",
       "Name: Mileage, dtype: object"
      ]
     },
     "execution_count": 26,
     "metadata": {},
     "output_type": "execute_result"
    }
   ],
   "source": [
    "x_train['Mileage'].head(3)"
   ]
  },
  {
   "cell_type": "code",
   "execution_count": 27,
   "id": "7a05fb63",
   "metadata": {},
   "outputs": [
    {
     "data": {
      "text/plain": [
       "1530     ₹ 7,10,000\n",
       "2428    ₹ 10,00,000\n",
       "3197     ₹ 5,25,000\n",
       "Name: Price, dtype: object"
      ]
     },
     "execution_count": 27,
     "metadata": {},
     "output_type": "execute_result"
    }
   ],
   "source": [
    "y_train.head(3)"
   ]
  },
  {
   "cell_type": "code",
   "execution_count": 28,
   "id": "4ecf3491",
   "metadata": {},
   "outputs": [
    {
     "data": {
      "text/plain": [
       "3000"
      ]
     },
     "execution_count": 28,
     "metadata": {},
     "output_type": "execute_result"
    }
   ],
   "source": [
    "x_train.shape[0]"
   ]
  },
  {
   "cell_type": "code",
   "execution_count": 29,
   "id": "d214730f",
   "metadata": {},
   "outputs": [
    {
     "data": {
      "text/plain": [
       "1530     15001.0 KM\n",
       "2428     70000.0 KM\n",
       "3197     78500.0 KM\n",
       "3463     61000.0 KM\n",
       "4420     52300.0 KM\n",
       "           ...     \n",
       "4645     57000.0 KM\n",
       "473      52000.0 KM\n",
       "3184      12,209 KM\n",
       "3917    127000.0 KM\n",
       "889      48000.0 KM\n",
       "Name: Mileage, Length: 3000, dtype: object"
      ]
     },
     "execution_count": 29,
     "metadata": {},
     "output_type": "execute_result"
    }
   ],
   "source": [
    "x_train['Mileage']"
   ]
  },
  {
   "cell_type": "code",
   "execution_count": 30,
   "id": "7722ea21",
   "metadata": {},
   "outputs": [
    {
     "data": {
      "text/plain": [
       "Int64Index([1530, 2428, 3197, 3463, 4420, 2880, 2073, 2318,  162, 3317,\n",
       "            ...\n",
       "            1722,  137, 3011, 3263, 3552, 4645,  473, 3184, 3917,  889],\n",
       "           dtype='int64', length=3000)"
      ]
     },
     "execution_count": 30,
     "metadata": {},
     "output_type": "execute_result"
    }
   ],
   "source": [
    "x_train['Mileage'].index"
   ]
  },
  {
   "cell_type": "code",
   "execution_count": 31,
   "id": "985c68a1",
   "metadata": {},
   "outputs": [
    {
     "data": {
      "text/plain": [
       "1530    15001.0\n",
       "2428    70000.0\n",
       "3197    78500.0\n",
       "Name: Mileage, dtype: object"
      ]
     },
     "execution_count": 31,
     "metadata": {},
     "output_type": "execute_result"
    }
   ],
   "source": [
    "for i in x_train['Mileage'].index:\n",
    "    if ',' in x_train['Mileage'][i].split(' ')[0]:\n",
    "        x_train['Mileage'][i] = x_train['Mileage'][i].split(' ')[0].replace(',','')\n",
    "    else:\n",
    "        x_train['Mileage'][i] = x_train['Mileage'][i].split(' ')[0]\n",
    "x_train['Mileage'].head(3)"
   ]
  },
  {
   "cell_type": "code",
   "execution_count": 32,
   "id": "ff79f237",
   "metadata": {},
   "outputs": [
    {
     "data": {
      "text/html": [
       "<div>\n",
       "<style scoped>\n",
       "    .dataframe tbody tr th:only-of-type {\n",
       "        vertical-align: middle;\n",
       "    }\n",
       "\n",
       "    .dataframe tbody tr th {\n",
       "        vertical-align: top;\n",
       "    }\n",
       "\n",
       "    .dataframe thead th {\n",
       "        text-align: right;\n",
       "    }\n",
       "</style>\n",
       "<table border=\"1\" class=\"dataframe\">\n",
       "  <thead>\n",
       "    <tr style=\"text-align: right;\">\n",
       "      <th></th>\n",
       "      <th>Model</th>\n",
       "      <th>Fuel Type</th>\n",
       "      <th>Mileage</th>\n",
       "      <th>Owner</th>\n",
       "      <th>Location</th>\n",
       "    </tr>\n",
       "  </thead>\n",
       "  <tbody>\n",
       "    <tr>\n",
       "      <th>1530</th>\n",
       "      <td>Renault Triber (2020)</td>\n",
       "      <td>--</td>\n",
       "      <td>15001.0</td>\n",
       "      <td>--</td>\n",
       "      <td>Edappally, Kochi</td>\n",
       "    </tr>\n",
       "    <tr>\n",
       "      <th>2428</th>\n",
       "      <td>Mahindra Thar (2018)</td>\n",
       "      <td>DIESEL</td>\n",
       "      <td>70000.0</td>\n",
       "      <td>--</td>\n",
       "      <td>Vidya Nagar, Kolhapur</td>\n",
       "    </tr>\n",
       "    <tr>\n",
       "      <th>3197</th>\n",
       "      <td>Hyundai Verna (2013)</td>\n",
       "      <td>DIESEL</td>\n",
       "      <td>78500.0</td>\n",
       "      <td>1st</td>\n",
       "      <td>Avtar Nagar, Jalandhar</td>\n",
       "    </tr>\n",
       "    <tr>\n",
       "      <th>3463</th>\n",
       "      <td>Tata Zest (2015)</td>\n",
       "      <td>PETROL</td>\n",
       "      <td>61000.0</td>\n",
       "      <td>1st</td>\n",
       "      <td>Mansarovar, Jaipur</td>\n",
       "    </tr>\n",
       "    <tr>\n",
       "      <th>4420</th>\n",
       "      <td>Mahindra Xylo (2019)</td>\n",
       "      <td>DIESEL</td>\n",
       "      <td>52300.0</td>\n",
       "      <td>1st</td>\n",
       "      <td>Tambaram, Chennai</td>\n",
       "    </tr>\n",
       "    <tr>\n",
       "      <th>...</th>\n",
       "      <td>...</td>\n",
       "      <td>...</td>\n",
       "      <td>...</td>\n",
       "      <td>...</td>\n",
       "      <td>...</td>\n",
       "    </tr>\n",
       "    <tr>\n",
       "      <th>4645</th>\n",
       "      <td>Bmw 3 Series Gt (2016)</td>\n",
       "      <td>DIESEL</td>\n",
       "      <td>57000.0</td>\n",
       "      <td>3rd</td>\n",
       "      <td>Sector 18, Noida</td>\n",
       "    </tr>\n",
       "    <tr>\n",
       "      <th>473</th>\n",
       "      <td>Mahindra Scorpio (2018)</td>\n",
       "      <td>DIESEL</td>\n",
       "      <td>52000.0</td>\n",
       "      <td>1st</td>\n",
       "      <td>Preet Vihar, Delhi</td>\n",
       "    </tr>\n",
       "    <tr>\n",
       "      <th>3184</th>\n",
       "      <td>Maruti Suzuki Omni (2009)</td>\n",
       "      <td>PETROL</td>\n",
       "      <td>12209</td>\n",
       "      <td>1st</td>\n",
       "      <td>Gurunanak Mohalla, Bhikhiwind</td>\n",
       "    </tr>\n",
       "    <tr>\n",
       "      <th>3917</th>\n",
       "      <td>Toyota Innova (2012)</td>\n",
       "      <td>DIESEL</td>\n",
       "      <td>127000.0</td>\n",
       "      <td>1st</td>\n",
       "      <td>Erragadda, Hyderabad</td>\n",
       "    </tr>\n",
       "    <tr>\n",
       "      <th>889</th>\n",
       "      <td>Maruti Suzuki Swift Dzire (2016)</td>\n",
       "      <td>DIESEL</td>\n",
       "      <td>48000.0</td>\n",
       "      <td>1st</td>\n",
       "      <td>Sector 9, Faridabad</td>\n",
       "    </tr>\n",
       "  </tbody>\n",
       "</table>\n",
       "<p>3000 rows × 5 columns</p>\n",
       "</div>"
      ],
      "text/plain": [
       "                                 Model Fuel Type   Mileage Owner  \\\n",
       "1530             Renault Triber (2020)        --   15001.0    --   \n",
       "2428              Mahindra Thar (2018)    DIESEL   70000.0    --   \n",
       "3197              Hyundai Verna (2013)    DIESEL   78500.0   1st   \n",
       "3463                  Tata Zest (2015)    PETROL   61000.0   1st   \n",
       "4420              Mahindra Xylo (2019)    DIESEL   52300.0   1st   \n",
       "...                                ...       ...       ...   ...   \n",
       "4645            Bmw 3 Series Gt (2016)    DIESEL   57000.0   3rd   \n",
       "473            Mahindra Scorpio (2018)    DIESEL   52000.0   1st   \n",
       "3184         Maruti Suzuki Omni (2009)    PETROL     12209   1st   \n",
       "3917              Toyota Innova (2012)    DIESEL  127000.0   1st   \n",
       "889   Maruti Suzuki Swift Dzire (2016)    DIESEL   48000.0   1st   \n",
       "\n",
       "                           Location  \n",
       "1530               Edappally, Kochi  \n",
       "2428          Vidya Nagar, Kolhapur  \n",
       "3197         Avtar Nagar, Jalandhar  \n",
       "3463             Mansarovar, Jaipur  \n",
       "4420              Tambaram, Chennai  \n",
       "...                             ...  \n",
       "4645               Sector 18, Noida  \n",
       "473              Preet Vihar, Delhi  \n",
       "3184  Gurunanak Mohalla, Bhikhiwind  \n",
       "3917           Erragadda, Hyderabad  \n",
       "889             Sector 9, Faridabad  \n",
       "\n",
       "[3000 rows x 5 columns]"
      ]
     },
     "execution_count": 32,
     "metadata": {},
     "output_type": "execute_result"
    }
   ],
   "source": [
    "x_train"
   ]
  },
  {
   "cell_type": "code",
   "execution_count": 33,
   "id": "72bbd506",
   "metadata": {},
   "outputs": [
    {
     "data": {
      "text/plain": [
       "1530     ₹ 7,10,000\n",
       "2428    ₹ 10,00,000\n",
       "3197     ₹ 5,25,000\n",
       "3463     ₹ 3,40,000\n",
       "4420     ₹ 8,90,000\n",
       "           ...     \n",
       "4645    ₹ 21,50,000\n",
       "473     ₹ 16,30,000\n",
       "3184       ₹ 65,000\n",
       "3917     ₹ 8,50,000\n",
       "889      ₹ 3,85,000\n",
       "Name: Price, Length: 3000, dtype: object"
      ]
     },
     "execution_count": 33,
     "metadata": {},
     "output_type": "execute_result"
    }
   ],
   "source": [
    "y_train"
   ]
  },
  {
   "cell_type": "code",
   "execution_count": 34,
   "id": "4c947e17",
   "metadata": {},
   "outputs": [
    {
     "data": {
      "text/plain": [
       "Int64Index([1530, 2428, 3197, 3463, 4420, 2880, 2073, 2318,  162, 3317,\n",
       "            ...\n",
       "            1722,  137, 3011, 3263, 3552, 4645,  473, 3184, 3917,  889],\n",
       "           dtype='int64', length=3000)"
      ]
     },
     "execution_count": 34,
     "metadata": {},
     "output_type": "execute_result"
    }
   ],
   "source": [
    "y_train.index"
   ]
  },
  {
   "cell_type": "code",
   "execution_count": 35,
   "id": "c9e41c56",
   "metadata": {},
   "outputs": [],
   "source": [
    "for i in y_train.index:\n",
    "    if ',' in y_train[i]:\n",
    "        y_train[i] = y_train[i].split(' ')[-1].replace(',','')\n",
    "    else:\n",
    "        y_train[i] = y_train[i].split(' ')[-1]"
   ]
  },
  {
   "cell_type": "code",
   "execution_count": 36,
   "id": "681946a7",
   "metadata": {},
   "outputs": [
    {
     "data": {
      "text/plain": [
       "1530     710000\n",
       "2428    1000000\n",
       "3197     525000\n",
       "3463     340000\n",
       "4420     890000\n",
       "         ...   \n",
       "4645    2150000\n",
       "473     1630000\n",
       "3184      65000\n",
       "3917     850000\n",
       "889      385000\n",
       "Name: Price, Length: 3000, dtype: object"
      ]
     },
     "execution_count": 36,
     "metadata": {},
     "output_type": "execute_result"
    }
   ],
   "source": [
    "y_train"
   ]
  },
  {
   "cell_type": "code",
   "execution_count": 37,
   "id": "d5d6abe3",
   "metadata": {},
   "outputs": [
    {
     "data": {
      "text/plain": [
       "dtype('O')"
      ]
     },
     "execution_count": 37,
     "metadata": {},
     "output_type": "execute_result"
    }
   ],
   "source": [
    "x_train['Mileage'].dtypes"
   ]
  },
  {
   "cell_type": "code",
   "execution_count": 38,
   "id": "998ec59c",
   "metadata": {},
   "outputs": [],
   "source": [
    "x_train['Mileage'] = pd.to_numeric(x_train['Mileage'])"
   ]
  },
  {
   "cell_type": "code",
   "execution_count": 39,
   "id": "bfc2f0c4",
   "metadata": {},
   "outputs": [
    {
     "data": {
      "text/plain": [
       "1530     15001.0\n",
       "2428     70000.0\n",
       "3197     78500.0\n",
       "3463     61000.0\n",
       "4420     52300.0\n",
       "          ...   \n",
       "4645     57000.0\n",
       "473      52000.0\n",
       "3184     12209.0\n",
       "3917    127000.0\n",
       "889      48000.0\n",
       "Name: Mileage, Length: 3000, dtype: float64"
      ]
     },
     "execution_count": 39,
     "metadata": {},
     "output_type": "execute_result"
    }
   ],
   "source": [
    "x_train['Mileage']"
   ]
  },
  {
   "cell_type": "code",
   "execution_count": 40,
   "id": "8fa553de",
   "metadata": {},
   "outputs": [
    {
     "data": {
      "text/plain": [
       "dtype('O')"
      ]
     },
     "execution_count": 40,
     "metadata": {},
     "output_type": "execute_result"
    }
   ],
   "source": [
    "y_train.dtypes"
   ]
  },
  {
   "cell_type": "code",
   "execution_count": 41,
   "id": "864f1e86",
   "metadata": {},
   "outputs": [],
   "source": [
    "y_train = pd.to_numeric(y_train)"
   ]
  },
  {
   "cell_type": "code",
   "execution_count": 42,
   "id": "f11037e3",
   "metadata": {},
   "outputs": [
    {
     "data": {
      "text/plain": [
       "1530     710000\n",
       "2428    1000000\n",
       "3197     525000\n",
       "3463     340000\n",
       "4420     890000\n",
       "         ...   \n",
       "4645    2150000\n",
       "473     1630000\n",
       "3184      65000\n",
       "3917     850000\n",
       "889      385000\n",
       "Name: Price, Length: 3000, dtype: int64"
      ]
     },
     "execution_count": 42,
     "metadata": {},
     "output_type": "execute_result"
    }
   ],
   "source": [
    "y_train"
   ]
  },
  {
   "cell_type": "markdown",
   "id": "67735069",
   "metadata": {},
   "source": [
    "**We have converted the datatype of *Mileage* and *Price* features to numeric datatypes for training dataset. We will create a pipeline object for test dataset.**"
   ]
  },
  {
   "cell_type": "code",
   "execution_count": 43,
   "id": "0a922cb1",
   "metadata": {},
   "outputs": [
    {
     "data": {
      "text/html": [
       "<div>\n",
       "<style scoped>\n",
       "    .dataframe tbody tr th:only-of-type {\n",
       "        vertical-align: middle;\n",
       "    }\n",
       "\n",
       "    .dataframe tbody tr th {\n",
       "        vertical-align: top;\n",
       "    }\n",
       "\n",
       "    .dataframe thead th {\n",
       "        text-align: right;\n",
       "    }\n",
       "</style>\n",
       "<table border=\"1\" class=\"dataframe\">\n",
       "  <thead>\n",
       "    <tr style=\"text-align: right;\">\n",
       "      <th></th>\n",
       "      <th>Model</th>\n",
       "      <th>Fuel Type</th>\n",
       "      <th>Mileage</th>\n",
       "      <th>Owner</th>\n",
       "      <th>Location</th>\n",
       "    </tr>\n",
       "  </thead>\n",
       "  <tbody>\n",
       "    <tr>\n",
       "      <th>1530</th>\n",
       "      <td>Renault Triber (2020)</td>\n",
       "      <td>--</td>\n",
       "      <td>15001.0</td>\n",
       "      <td>--</td>\n",
       "      <td>Edappally, Kochi</td>\n",
       "    </tr>\n",
       "    <tr>\n",
       "      <th>2428</th>\n",
       "      <td>Mahindra Thar (2018)</td>\n",
       "      <td>DIESEL</td>\n",
       "      <td>70000.0</td>\n",
       "      <td>--</td>\n",
       "      <td>Vidya Nagar, Kolhapur</td>\n",
       "    </tr>\n",
       "    <tr>\n",
       "      <th>3197</th>\n",
       "      <td>Hyundai Verna (2013)</td>\n",
       "      <td>DIESEL</td>\n",
       "      <td>78500.0</td>\n",
       "      <td>1st</td>\n",
       "      <td>Avtar Nagar, Jalandhar</td>\n",
       "    </tr>\n",
       "    <tr>\n",
       "      <th>3463</th>\n",
       "      <td>Tata Zest (2015)</td>\n",
       "      <td>PETROL</td>\n",
       "      <td>61000.0</td>\n",
       "      <td>1st</td>\n",
       "      <td>Mansarovar, Jaipur</td>\n",
       "    </tr>\n",
       "    <tr>\n",
       "      <th>4420</th>\n",
       "      <td>Mahindra Xylo (2019)</td>\n",
       "      <td>DIESEL</td>\n",
       "      <td>52300.0</td>\n",
       "      <td>1st</td>\n",
       "      <td>Tambaram, Chennai</td>\n",
       "    </tr>\n",
       "    <tr>\n",
       "      <th>...</th>\n",
       "      <td>...</td>\n",
       "      <td>...</td>\n",
       "      <td>...</td>\n",
       "      <td>...</td>\n",
       "      <td>...</td>\n",
       "    </tr>\n",
       "    <tr>\n",
       "      <th>4645</th>\n",
       "      <td>Bmw 3 Series Gt (2016)</td>\n",
       "      <td>DIESEL</td>\n",
       "      <td>57000.0</td>\n",
       "      <td>3rd</td>\n",
       "      <td>Sector 18, Noida</td>\n",
       "    </tr>\n",
       "    <tr>\n",
       "      <th>473</th>\n",
       "      <td>Mahindra Scorpio (2018)</td>\n",
       "      <td>DIESEL</td>\n",
       "      <td>52000.0</td>\n",
       "      <td>1st</td>\n",
       "      <td>Preet Vihar, Delhi</td>\n",
       "    </tr>\n",
       "    <tr>\n",
       "      <th>3184</th>\n",
       "      <td>Maruti Suzuki Omni (2009)</td>\n",
       "      <td>PETROL</td>\n",
       "      <td>12209.0</td>\n",
       "      <td>1st</td>\n",
       "      <td>Gurunanak Mohalla, Bhikhiwind</td>\n",
       "    </tr>\n",
       "    <tr>\n",
       "      <th>3917</th>\n",
       "      <td>Toyota Innova (2012)</td>\n",
       "      <td>DIESEL</td>\n",
       "      <td>127000.0</td>\n",
       "      <td>1st</td>\n",
       "      <td>Erragadda, Hyderabad</td>\n",
       "    </tr>\n",
       "    <tr>\n",
       "      <th>889</th>\n",
       "      <td>Maruti Suzuki Swift Dzire (2016)</td>\n",
       "      <td>DIESEL</td>\n",
       "      <td>48000.0</td>\n",
       "      <td>1st</td>\n",
       "      <td>Sector 9, Faridabad</td>\n",
       "    </tr>\n",
       "  </tbody>\n",
       "</table>\n",
       "<p>3000 rows × 5 columns</p>\n",
       "</div>"
      ],
      "text/plain": [
       "                                 Model Fuel Type   Mileage Owner  \\\n",
       "1530             Renault Triber (2020)        --   15001.0    --   \n",
       "2428              Mahindra Thar (2018)    DIESEL   70000.0    --   \n",
       "3197              Hyundai Verna (2013)    DIESEL   78500.0   1st   \n",
       "3463                  Tata Zest (2015)    PETROL   61000.0   1st   \n",
       "4420              Mahindra Xylo (2019)    DIESEL   52300.0   1st   \n",
       "...                                ...       ...       ...   ...   \n",
       "4645            Bmw 3 Series Gt (2016)    DIESEL   57000.0   3rd   \n",
       "473            Mahindra Scorpio (2018)    DIESEL   52000.0   1st   \n",
       "3184         Maruti Suzuki Omni (2009)    PETROL   12209.0   1st   \n",
       "3917              Toyota Innova (2012)    DIESEL  127000.0   1st   \n",
       "889   Maruti Suzuki Swift Dzire (2016)    DIESEL   48000.0   1st   \n",
       "\n",
       "                           Location  \n",
       "1530               Edappally, Kochi  \n",
       "2428          Vidya Nagar, Kolhapur  \n",
       "3197         Avtar Nagar, Jalandhar  \n",
       "3463             Mansarovar, Jaipur  \n",
       "4420              Tambaram, Chennai  \n",
       "...                             ...  \n",
       "4645               Sector 18, Noida  \n",
       "473              Preet Vihar, Delhi  \n",
       "3184  Gurunanak Mohalla, Bhikhiwind  \n",
       "3917           Erragadda, Hyderabad  \n",
       "889             Sector 9, Faridabad  \n",
       "\n",
       "[3000 rows x 5 columns]"
      ]
     },
     "execution_count": 43,
     "metadata": {},
     "output_type": "execute_result"
    }
   ],
   "source": [
    "x_train"
   ]
  },
  {
   "cell_type": "code",
   "execution_count": 44,
   "id": "5cda3b40",
   "metadata": {},
   "outputs": [],
   "source": [
    "built_year = []\n",
    "for i in x_train.index:\n",
    "    built_year.append(x_train['Model'][i].split('(')[-1].split(')')[0])\n",
    "    x_train['Model'][i] = x_train['Model'][i].split('(')[0]\n",
    "x_train['Year built'] = built_year"
   ]
  },
  {
   "cell_type": "code",
   "execution_count": 45,
   "id": "f7e27b25",
   "metadata": {},
   "outputs": [
    {
     "data": {
      "text/html": [
       "<div>\n",
       "<style scoped>\n",
       "    .dataframe tbody tr th:only-of-type {\n",
       "        vertical-align: middle;\n",
       "    }\n",
       "\n",
       "    .dataframe tbody tr th {\n",
       "        vertical-align: top;\n",
       "    }\n",
       "\n",
       "    .dataframe thead th {\n",
       "        text-align: right;\n",
       "    }\n",
       "</style>\n",
       "<table border=\"1\" class=\"dataframe\">\n",
       "  <thead>\n",
       "    <tr style=\"text-align: right;\">\n",
       "      <th></th>\n",
       "      <th>Model</th>\n",
       "      <th>Fuel Type</th>\n",
       "      <th>Mileage</th>\n",
       "      <th>Owner</th>\n",
       "      <th>Location</th>\n",
       "      <th>Year built</th>\n",
       "    </tr>\n",
       "  </thead>\n",
       "  <tbody>\n",
       "    <tr>\n",
       "      <th>1530</th>\n",
       "      <td>Renault Triber</td>\n",
       "      <td>--</td>\n",
       "      <td>15001.0</td>\n",
       "      <td>--</td>\n",
       "      <td>Edappally, Kochi</td>\n",
       "      <td>2020</td>\n",
       "    </tr>\n",
       "    <tr>\n",
       "      <th>2428</th>\n",
       "      <td>Mahindra Thar</td>\n",
       "      <td>DIESEL</td>\n",
       "      <td>70000.0</td>\n",
       "      <td>--</td>\n",
       "      <td>Vidya Nagar, Kolhapur</td>\n",
       "      <td>2018</td>\n",
       "    </tr>\n",
       "    <tr>\n",
       "      <th>3197</th>\n",
       "      <td>Hyundai Verna</td>\n",
       "      <td>DIESEL</td>\n",
       "      <td>78500.0</td>\n",
       "      <td>1st</td>\n",
       "      <td>Avtar Nagar, Jalandhar</td>\n",
       "      <td>2013</td>\n",
       "    </tr>\n",
       "    <tr>\n",
       "      <th>3463</th>\n",
       "      <td>Tata Zest</td>\n",
       "      <td>PETROL</td>\n",
       "      <td>61000.0</td>\n",
       "      <td>1st</td>\n",
       "      <td>Mansarovar, Jaipur</td>\n",
       "      <td>2015</td>\n",
       "    </tr>\n",
       "    <tr>\n",
       "      <th>4420</th>\n",
       "      <td>Mahindra Xylo</td>\n",
       "      <td>DIESEL</td>\n",
       "      <td>52300.0</td>\n",
       "      <td>1st</td>\n",
       "      <td>Tambaram, Chennai</td>\n",
       "      <td>2019</td>\n",
       "    </tr>\n",
       "    <tr>\n",
       "      <th>...</th>\n",
       "      <td>...</td>\n",
       "      <td>...</td>\n",
       "      <td>...</td>\n",
       "      <td>...</td>\n",
       "      <td>...</td>\n",
       "      <td>...</td>\n",
       "    </tr>\n",
       "    <tr>\n",
       "      <th>4645</th>\n",
       "      <td>Bmw 3 Series Gt</td>\n",
       "      <td>DIESEL</td>\n",
       "      <td>57000.0</td>\n",
       "      <td>3rd</td>\n",
       "      <td>Sector 18, Noida</td>\n",
       "      <td>2016</td>\n",
       "    </tr>\n",
       "    <tr>\n",
       "      <th>473</th>\n",
       "      <td>Mahindra Scorpio</td>\n",
       "      <td>DIESEL</td>\n",
       "      <td>52000.0</td>\n",
       "      <td>1st</td>\n",
       "      <td>Preet Vihar, Delhi</td>\n",
       "      <td>2018</td>\n",
       "    </tr>\n",
       "    <tr>\n",
       "      <th>3184</th>\n",
       "      <td>Maruti Suzuki Omni</td>\n",
       "      <td>PETROL</td>\n",
       "      <td>12209.0</td>\n",
       "      <td>1st</td>\n",
       "      <td>Gurunanak Mohalla, Bhikhiwind</td>\n",
       "      <td>2009</td>\n",
       "    </tr>\n",
       "    <tr>\n",
       "      <th>3917</th>\n",
       "      <td>Toyota Innova</td>\n",
       "      <td>DIESEL</td>\n",
       "      <td>127000.0</td>\n",
       "      <td>1st</td>\n",
       "      <td>Erragadda, Hyderabad</td>\n",
       "      <td>2012</td>\n",
       "    </tr>\n",
       "    <tr>\n",
       "      <th>889</th>\n",
       "      <td>Maruti Suzuki Swift Dzire</td>\n",
       "      <td>DIESEL</td>\n",
       "      <td>48000.0</td>\n",
       "      <td>1st</td>\n",
       "      <td>Sector 9, Faridabad</td>\n",
       "      <td>2016</td>\n",
       "    </tr>\n",
       "  </tbody>\n",
       "</table>\n",
       "<p>3000 rows × 6 columns</p>\n",
       "</div>"
      ],
      "text/plain": [
       "                           Model Fuel Type   Mileage Owner  \\\n",
       "1530             Renault Triber         --   15001.0    --   \n",
       "2428              Mahindra Thar     DIESEL   70000.0    --   \n",
       "3197              Hyundai Verna     DIESEL   78500.0   1st   \n",
       "3463                  Tata Zest     PETROL   61000.0   1st   \n",
       "4420              Mahindra Xylo     DIESEL   52300.0   1st   \n",
       "...                          ...       ...       ...   ...   \n",
       "4645            Bmw 3 Series Gt     DIESEL   57000.0   3rd   \n",
       "473            Mahindra Scorpio     DIESEL   52000.0   1st   \n",
       "3184         Maruti Suzuki Omni     PETROL   12209.0   1st   \n",
       "3917              Toyota Innova     DIESEL  127000.0   1st   \n",
       "889   Maruti Suzuki Swift Dzire     DIESEL   48000.0   1st   \n",
       "\n",
       "                           Location Year built  \n",
       "1530               Edappally, Kochi       2020  \n",
       "2428          Vidya Nagar, Kolhapur       2018  \n",
       "3197         Avtar Nagar, Jalandhar       2013  \n",
       "3463             Mansarovar, Jaipur       2015  \n",
       "4420              Tambaram, Chennai       2019  \n",
       "...                             ...        ...  \n",
       "4645               Sector 18, Noida       2016  \n",
       "473              Preet Vihar, Delhi       2018  \n",
       "3184  Gurunanak Mohalla, Bhikhiwind       2009  \n",
       "3917           Erragadda, Hyderabad       2012  \n",
       "889             Sector 9, Faridabad       2016  \n",
       "\n",
       "[3000 rows x 6 columns]"
      ]
     },
     "execution_count": 45,
     "metadata": {},
     "output_type": "execute_result"
    }
   ],
   "source": [
    "x_train"
   ]
  },
  {
   "cell_type": "markdown",
   "id": "7e4188db",
   "metadata": {},
   "source": [
    "**We have seperated the built year attached to model names from Model feature and added it as a seperate column .**"
   ]
  },
  {
   "cell_type": "code",
   "execution_count": 46,
   "id": "f1d27708",
   "metadata": {},
   "outputs": [
    {
     "data": {
      "text/plain": [
       "Sector 37, Gurgaon         40\n",
       "Karol Bagh, Delhi          28\n",
       "Madhapur, Hyderabad        22\n",
       "Preet Vihar, Delhi         18\n",
       "Nirman Nagar, Jaipur       18\n",
       "                           ..\n",
       "Mysore Road, Bengaluru      1\n",
       "AS Rao Nagar, Hyderabad     1\n",
       "Khadupai, Sunam             1\n",
       "Singanwala, Ambala          1\n",
       "Erragadda, Hyderabad        1\n",
       "Name: Location, Length: 1690, dtype: int64"
      ]
     },
     "execution_count": 46,
     "metadata": {},
     "output_type": "execute_result"
    }
   ],
   "source": [
    "x_train['Location'].value_counts()"
   ]
  },
  {
   "cell_type": "code",
   "execution_count": 47,
   "id": "924e9ca2",
   "metadata": {},
   "outputs": [],
   "source": [
    "for i in x_train.index:\n",
    "    x_train['Location'][i] = x_train['Location'][i].split(',')[-1].strip()"
   ]
  },
  {
   "cell_type": "code",
   "execution_count": 48,
   "id": "390cb7eb",
   "metadata": {},
   "outputs": [
    {
     "data": {
      "text/html": [
       "<div>\n",
       "<style scoped>\n",
       "    .dataframe tbody tr th:only-of-type {\n",
       "        vertical-align: middle;\n",
       "    }\n",
       "\n",
       "    .dataframe tbody tr th {\n",
       "        vertical-align: top;\n",
       "    }\n",
       "\n",
       "    .dataframe thead th {\n",
       "        text-align: right;\n",
       "    }\n",
       "</style>\n",
       "<table border=\"1\" class=\"dataframe\">\n",
       "  <thead>\n",
       "    <tr style=\"text-align: right;\">\n",
       "      <th></th>\n",
       "      <th>Model</th>\n",
       "      <th>Fuel Type</th>\n",
       "      <th>Mileage</th>\n",
       "      <th>Owner</th>\n",
       "      <th>Location</th>\n",
       "      <th>Year built</th>\n",
       "    </tr>\n",
       "  </thead>\n",
       "  <tbody>\n",
       "    <tr>\n",
       "      <th>1530</th>\n",
       "      <td>Renault Triber</td>\n",
       "      <td>--</td>\n",
       "      <td>15001.0</td>\n",
       "      <td>--</td>\n",
       "      <td>Kochi</td>\n",
       "      <td>2020</td>\n",
       "    </tr>\n",
       "    <tr>\n",
       "      <th>2428</th>\n",
       "      <td>Mahindra Thar</td>\n",
       "      <td>DIESEL</td>\n",
       "      <td>70000.0</td>\n",
       "      <td>--</td>\n",
       "      <td>Kolhapur</td>\n",
       "      <td>2018</td>\n",
       "    </tr>\n",
       "    <tr>\n",
       "      <th>3197</th>\n",
       "      <td>Hyundai Verna</td>\n",
       "      <td>DIESEL</td>\n",
       "      <td>78500.0</td>\n",
       "      <td>1st</td>\n",
       "      <td>Jalandhar</td>\n",
       "      <td>2013</td>\n",
       "    </tr>\n",
       "    <tr>\n",
       "      <th>3463</th>\n",
       "      <td>Tata Zest</td>\n",
       "      <td>PETROL</td>\n",
       "      <td>61000.0</td>\n",
       "      <td>1st</td>\n",
       "      <td>Jaipur</td>\n",
       "      <td>2015</td>\n",
       "    </tr>\n",
       "    <tr>\n",
       "      <th>4420</th>\n",
       "      <td>Mahindra Xylo</td>\n",
       "      <td>DIESEL</td>\n",
       "      <td>52300.0</td>\n",
       "      <td>1st</td>\n",
       "      <td>Chennai</td>\n",
       "      <td>2019</td>\n",
       "    </tr>\n",
       "    <tr>\n",
       "      <th>...</th>\n",
       "      <td>...</td>\n",
       "      <td>...</td>\n",
       "      <td>...</td>\n",
       "      <td>...</td>\n",
       "      <td>...</td>\n",
       "      <td>...</td>\n",
       "    </tr>\n",
       "    <tr>\n",
       "      <th>4645</th>\n",
       "      <td>Bmw 3 Series Gt</td>\n",
       "      <td>DIESEL</td>\n",
       "      <td>57000.0</td>\n",
       "      <td>3rd</td>\n",
       "      <td>Noida</td>\n",
       "      <td>2016</td>\n",
       "    </tr>\n",
       "    <tr>\n",
       "      <th>473</th>\n",
       "      <td>Mahindra Scorpio</td>\n",
       "      <td>DIESEL</td>\n",
       "      <td>52000.0</td>\n",
       "      <td>1st</td>\n",
       "      <td>Delhi</td>\n",
       "      <td>2018</td>\n",
       "    </tr>\n",
       "    <tr>\n",
       "      <th>3184</th>\n",
       "      <td>Maruti Suzuki Omni</td>\n",
       "      <td>PETROL</td>\n",
       "      <td>12209.0</td>\n",
       "      <td>1st</td>\n",
       "      <td>Bhikhiwind</td>\n",
       "      <td>2009</td>\n",
       "    </tr>\n",
       "    <tr>\n",
       "      <th>3917</th>\n",
       "      <td>Toyota Innova</td>\n",
       "      <td>DIESEL</td>\n",
       "      <td>127000.0</td>\n",
       "      <td>1st</td>\n",
       "      <td>Hyderabad</td>\n",
       "      <td>2012</td>\n",
       "    </tr>\n",
       "    <tr>\n",
       "      <th>889</th>\n",
       "      <td>Maruti Suzuki Swift Dzire</td>\n",
       "      <td>DIESEL</td>\n",
       "      <td>48000.0</td>\n",
       "      <td>1st</td>\n",
       "      <td>Faridabad</td>\n",
       "      <td>2016</td>\n",
       "    </tr>\n",
       "  </tbody>\n",
       "</table>\n",
       "<p>3000 rows × 6 columns</p>\n",
       "</div>"
      ],
      "text/plain": [
       "                           Model Fuel Type   Mileage Owner    Location  \\\n",
       "1530             Renault Triber         --   15001.0    --       Kochi   \n",
       "2428              Mahindra Thar     DIESEL   70000.0    --    Kolhapur   \n",
       "3197              Hyundai Verna     DIESEL   78500.0   1st   Jalandhar   \n",
       "3463                  Tata Zest     PETROL   61000.0   1st      Jaipur   \n",
       "4420              Mahindra Xylo     DIESEL   52300.0   1st     Chennai   \n",
       "...                          ...       ...       ...   ...         ...   \n",
       "4645            Bmw 3 Series Gt     DIESEL   57000.0   3rd       Noida   \n",
       "473            Mahindra Scorpio     DIESEL   52000.0   1st       Delhi   \n",
       "3184         Maruti Suzuki Omni     PETROL   12209.0   1st  Bhikhiwind   \n",
       "3917              Toyota Innova     DIESEL  127000.0   1st   Hyderabad   \n",
       "889   Maruti Suzuki Swift Dzire     DIESEL   48000.0   1st   Faridabad   \n",
       "\n",
       "     Year built  \n",
       "1530       2020  \n",
       "2428       2018  \n",
       "3197       2013  \n",
       "3463       2015  \n",
       "4420       2019  \n",
       "...         ...  \n",
       "4645       2016  \n",
       "473        2018  \n",
       "3184       2009  \n",
       "3917       2012  \n",
       "889        2016  \n",
       "\n",
       "[3000 rows x 6 columns]"
      ]
     },
     "execution_count": 48,
     "metadata": {},
     "output_type": "execute_result"
    }
   ],
   "source": [
    "x_train"
   ]
  },
  {
   "cell_type": "markdown",
   "id": "d4fcbde0",
   "metadata": {},
   "source": [
    "**For *Location* feature , we have kept only city names and we have excluded the localities from cities.**"
   ]
  },
  {
   "cell_type": "code",
   "execution_count": 49,
   "id": "eff2be7e",
   "metadata": {},
   "outputs": [
    {
     "data": {
      "text/plain": [
       "array(['--', '1st', '2nd', '3rd', '4th', '4+', 'Fourth', 'Third', 'First',\n",
       "       'Second'], dtype=object)"
      ]
     },
     "execution_count": 49,
     "metadata": {},
     "output_type": "execute_result"
    }
   ],
   "source": [
    "x_train['Owner'].unique()"
   ]
  },
  {
   "cell_type": "code",
   "execution_count": 50,
   "id": "1f485315",
   "metadata": {},
   "outputs": [
    {
     "data": {
      "text/plain": [
       "1st       1727\n",
       "2nd        896\n",
       "3rd        189\n",
       "--         116\n",
       "4th         33\n",
       "4+          23\n",
       "First        8\n",
       "Second       5\n",
       "Third        2\n",
       "Fourth       1\n",
       "Name: Owner, dtype: int64"
      ]
     },
     "execution_count": 50,
     "metadata": {},
     "output_type": "execute_result"
    }
   ],
   "source": [
    "x_train['Owner'].value_counts()"
   ]
  },
  {
   "cell_type": "code",
   "execution_count": 51,
   "id": "22c3a789",
   "metadata": {},
   "outputs": [],
   "source": [
    "for i in x_train.index:\n",
    "    if x_train['Owner'][i] in ('1st','First') :\n",
    "        x_train['Owner'][i] = 1\n",
    "    elif x_train['Owner'][i] in ('2nd','Second'):\n",
    "        x_train['Owner'][i] = 2\n",
    "    elif x_train['Owner'][i] == '3rd':\n",
    "        x_train['Owner'][i] = 3\n",
    "    elif x_train['Owner'][i] == '4th':\n",
    "        x_train['Owner'][i] = 4\n",
    "    elif x_train['Owner'][i] == '4+':\n",
    "        x_train['Owner'][i] = 5"
   ]
  },
  {
   "cell_type": "code",
   "execution_count": 52,
   "id": "d88d0fc1",
   "metadata": {},
   "outputs": [
    {
     "data": {
      "text/plain": [
       "1         1735\n",
       "2          901\n",
       "3          189\n",
       "--         116\n",
       "4           33\n",
       "5           23\n",
       "Third        2\n",
       "Fourth       1\n",
       "Name: Owner, dtype: int64"
      ]
     },
     "execution_count": 52,
     "metadata": {},
     "output_type": "execute_result"
    }
   ],
   "source": [
    "x_train['Owner'].value_counts()"
   ]
  },
  {
   "cell_type": "markdown",
   "id": "431a6632",
   "metadata": {},
   "source": [
    "**We have converted the *Owner* feature to numerical datatype as suitable per the records**"
   ]
  },
  {
   "cell_type": "markdown",
   "id": "5c4d556b",
   "metadata": {},
   "source": [
    "## Data Pre-processing"
   ]
  },
  {
   "cell_type": "code",
   "execution_count": 53,
   "id": "f579a5fa",
   "metadata": {},
   "outputs": [],
   "source": [
    "import matplotlib.pyplot as plt\n",
    "import seaborn as sn"
   ]
  },
  {
   "cell_type": "code",
   "execution_count": 54,
   "id": "77fd1b55",
   "metadata": {},
   "outputs": [
    {
     "data": {
      "text/html": [
       "<div>\n",
       "<style scoped>\n",
       "    .dataframe tbody tr th:only-of-type {\n",
       "        vertical-align: middle;\n",
       "    }\n",
       "\n",
       "    .dataframe tbody tr th {\n",
       "        vertical-align: top;\n",
       "    }\n",
       "\n",
       "    .dataframe thead th {\n",
       "        text-align: right;\n",
       "    }\n",
       "</style>\n",
       "<table border=\"1\" class=\"dataframe\">\n",
       "  <thead>\n",
       "    <tr style=\"text-align: right;\">\n",
       "      <th></th>\n",
       "      <th>Model</th>\n",
       "      <th>Fuel Type</th>\n",
       "      <th>Mileage</th>\n",
       "      <th>Owner</th>\n",
       "      <th>Location</th>\n",
       "      <th>Year built</th>\n",
       "    </tr>\n",
       "  </thead>\n",
       "  <tbody>\n",
       "    <tr>\n",
       "      <th>1530</th>\n",
       "      <td>Renault Triber</td>\n",
       "      <td>--</td>\n",
       "      <td>15001.0</td>\n",
       "      <td>--</td>\n",
       "      <td>Kochi</td>\n",
       "      <td>2020</td>\n",
       "    </tr>\n",
       "    <tr>\n",
       "      <th>2428</th>\n",
       "      <td>Mahindra Thar</td>\n",
       "      <td>DIESEL</td>\n",
       "      <td>70000.0</td>\n",
       "      <td>--</td>\n",
       "      <td>Kolhapur</td>\n",
       "      <td>2018</td>\n",
       "    </tr>\n",
       "    <tr>\n",
       "      <th>3197</th>\n",
       "      <td>Hyundai Verna</td>\n",
       "      <td>DIESEL</td>\n",
       "      <td>78500.0</td>\n",
       "      <td>1</td>\n",
       "      <td>Jalandhar</td>\n",
       "      <td>2013</td>\n",
       "    </tr>\n",
       "    <tr>\n",
       "      <th>3463</th>\n",
       "      <td>Tata Zest</td>\n",
       "      <td>PETROL</td>\n",
       "      <td>61000.0</td>\n",
       "      <td>1</td>\n",
       "      <td>Jaipur</td>\n",
       "      <td>2015</td>\n",
       "    </tr>\n",
       "    <tr>\n",
       "      <th>4420</th>\n",
       "      <td>Mahindra Xylo</td>\n",
       "      <td>DIESEL</td>\n",
       "      <td>52300.0</td>\n",
       "      <td>1</td>\n",
       "      <td>Chennai</td>\n",
       "      <td>2019</td>\n",
       "    </tr>\n",
       "    <tr>\n",
       "      <th>...</th>\n",
       "      <td>...</td>\n",
       "      <td>...</td>\n",
       "      <td>...</td>\n",
       "      <td>...</td>\n",
       "      <td>...</td>\n",
       "      <td>...</td>\n",
       "    </tr>\n",
       "    <tr>\n",
       "      <th>4645</th>\n",
       "      <td>Bmw 3 Series Gt</td>\n",
       "      <td>DIESEL</td>\n",
       "      <td>57000.0</td>\n",
       "      <td>3</td>\n",
       "      <td>Noida</td>\n",
       "      <td>2016</td>\n",
       "    </tr>\n",
       "    <tr>\n",
       "      <th>473</th>\n",
       "      <td>Mahindra Scorpio</td>\n",
       "      <td>DIESEL</td>\n",
       "      <td>52000.0</td>\n",
       "      <td>1</td>\n",
       "      <td>Delhi</td>\n",
       "      <td>2018</td>\n",
       "    </tr>\n",
       "    <tr>\n",
       "      <th>3184</th>\n",
       "      <td>Maruti Suzuki Omni</td>\n",
       "      <td>PETROL</td>\n",
       "      <td>12209.0</td>\n",
       "      <td>1</td>\n",
       "      <td>Bhikhiwind</td>\n",
       "      <td>2009</td>\n",
       "    </tr>\n",
       "    <tr>\n",
       "      <th>3917</th>\n",
       "      <td>Toyota Innova</td>\n",
       "      <td>DIESEL</td>\n",
       "      <td>127000.0</td>\n",
       "      <td>1</td>\n",
       "      <td>Hyderabad</td>\n",
       "      <td>2012</td>\n",
       "    </tr>\n",
       "    <tr>\n",
       "      <th>889</th>\n",
       "      <td>Maruti Suzuki Swift Dzire</td>\n",
       "      <td>DIESEL</td>\n",
       "      <td>48000.0</td>\n",
       "      <td>1</td>\n",
       "      <td>Faridabad</td>\n",
       "      <td>2016</td>\n",
       "    </tr>\n",
       "  </tbody>\n",
       "</table>\n",
       "<p>3000 rows × 6 columns</p>\n",
       "</div>"
      ],
      "text/plain": [
       "                           Model Fuel Type   Mileage Owner    Location  \\\n",
       "1530             Renault Triber         --   15001.0    --       Kochi   \n",
       "2428              Mahindra Thar     DIESEL   70000.0    --    Kolhapur   \n",
       "3197              Hyundai Verna     DIESEL   78500.0     1   Jalandhar   \n",
       "3463                  Tata Zest     PETROL   61000.0     1      Jaipur   \n",
       "4420              Mahindra Xylo     DIESEL   52300.0     1     Chennai   \n",
       "...                          ...       ...       ...   ...         ...   \n",
       "4645            Bmw 3 Series Gt     DIESEL   57000.0     3       Noida   \n",
       "473            Mahindra Scorpio     DIESEL   52000.0     1       Delhi   \n",
       "3184         Maruti Suzuki Omni     PETROL   12209.0     1  Bhikhiwind   \n",
       "3917              Toyota Innova     DIESEL  127000.0     1   Hyderabad   \n",
       "889   Maruti Suzuki Swift Dzire     DIESEL   48000.0     1   Faridabad   \n",
       "\n",
       "     Year built  \n",
       "1530       2020  \n",
       "2428       2018  \n",
       "3197       2013  \n",
       "3463       2015  \n",
       "4420       2019  \n",
       "...         ...  \n",
       "4645       2016  \n",
       "473        2018  \n",
       "3184       2009  \n",
       "3917       2012  \n",
       "889        2016  \n",
       "\n",
       "[3000 rows x 6 columns]"
      ]
     },
     "execution_count": 54,
     "metadata": {},
     "output_type": "execute_result"
    }
   ],
   "source": [
    "x_train"
   ]
  },
  {
   "cell_type": "code",
   "execution_count": 55,
   "id": "2f810e97",
   "metadata": {},
   "outputs": [
    {
     "name": "stdout",
     "output_type": "stream",
     "text": [
      "Numerical columns: ['Mileage']\n"
     ]
    }
   ],
   "source": [
    "numerical_cols = []\n",
    "for col in x_train.columns:\n",
    "    if x_train[col].dtypes != 'object':\n",
    "        numerical_cols.append(col)\n",
    "print(\"Numerical columns: {}\".format(numerical_cols))"
   ]
  },
  {
   "cell_type": "code",
   "execution_count": 56,
   "id": "83c65ad2",
   "metadata": {
    "scrolled": true
   },
   "outputs": [
    {
     "data": {
      "image/png": "[encoded data removed]",
      "text/plain": [
       "<Figure size 432x288 with 1 Axes>"
      ]
     },
     "metadata": {
      "needs_background": "light"
     },
     "output_type": "display_data"
    }
   ],
   "source": [
    "for col in numerical_cols:\n",
    "    fig = plt.figure()\n",
    "    ax = fig.add_subplot(111)\n",
    "    ax.boxplot(x_train[col])\n",
    "    ax.set_xlabel(col)\n",
    "    plt.show()"
   ]
  },
  {
   "cell_type": "code",
   "execution_count": 57,
   "id": "52dc8fa1",
   "metadata": {},
   "outputs": [
    {
     "data": {
      "image/png": "[encoded data removed]",
      "text/plain": [
       "<Figure size 432x288 with 1 Axes>"
      ]
     },
     "metadata": {
      "needs_background": "light"
     },
     "output_type": "display_data"
    }
   ],
   "source": [
    "for col in numerical_cols:\n",
    "    fig = plt.figure()\n",
    "    ax = fig.add_subplot(111)\n",
    "    ax = sn.distplot(x_train[col])\n",
    "    ax.set_xlabel(col)\n",
    "    plt.show()"
   ]
  },
  {
   "cell_type": "markdown",
   "id": "a2d3a56f",
   "metadata": {},
   "source": [
    "**From the boxplot and distplot for independent numerical feature *Mileage*, we observe that the data distribution is right skewed. It is skewed because of the presence of few records of cars with more mileage than most of the cars in records. So instead of removing those records, we will try to reduce the skewness and make it normal distribution.**"
   ]
  },
  {
   "cell_type": "code",
   "execution_count": 58,
   "id": "9e0ef526",
   "metadata": {},
   "outputs": [
    {
     "data": {
      "text/plain": [
       "Model          object\n",
       "Fuel Type      object\n",
       "Mileage       float64\n",
       "Owner          object\n",
       "Location       object\n",
       "Year built     object\n",
       "dtype: object"
      ]
     },
     "execution_count": 58,
     "metadata": {},
     "output_type": "execute_result"
    }
   ],
   "source": [
    "x_train.dtypes"
   ]
  },
  {
   "cell_type": "code",
   "execution_count": 59,
   "id": "76838313",
   "metadata": {},
   "outputs": [
    {
     "data": {
      "image/png": "[encoded data removed]",
      "text/plain": [
       "<Figure size 432x288 with 1 Axes>"
      ]
     },
     "metadata": {
      "needs_background": "light"
     },
     "output_type": "display_data"
    }
   ],
   "source": [
    "for col in numerical_cols:\n",
    "    fig = plt.figure()\n",
    "    ax = fig.add_subplot(111)\n",
    "    ax = sn.distplot(np.cbrt(x_train[col]))\n",
    "    ax.set_xlabel(col)\n",
    "    plt.show()"
   ]
  },
  {
   "cell_type": "markdown",
   "id": "7d210ec7",
   "metadata": {},
   "source": [
    "**After cuberoot transformation of numerical feature *Mileage*, we observe the distribution of data is transformed from right skewed to normal distribution. So we will choose cuberoot transformation to handle outlier values and to remove skewness.**"
   ]
  },
  {
   "cell_type": "code",
   "execution_count": 60,
   "id": "22dbd2f4",
   "metadata": {},
   "outputs": [
    {
     "data": {
      "text/html": [
       "<div>\n",
       "<style scoped>\n",
       "    .dataframe tbody tr th:only-of-type {\n",
       "        vertical-align: middle;\n",
       "    }\n",
       "\n",
       "    .dataframe tbody tr th {\n",
       "        vertical-align: top;\n",
       "    }\n",
       "\n",
       "    .dataframe thead th {\n",
       "        text-align: right;\n",
       "    }\n",
       "</style>\n",
       "<table border=\"1\" class=\"dataframe\">\n",
       "  <thead>\n",
       "    <tr style=\"text-align: right;\">\n",
       "      <th></th>\n",
       "      <th>Model</th>\n",
       "      <th>Fuel Type</th>\n",
       "      <th>Mileage</th>\n",
       "      <th>Owner</th>\n",
       "      <th>Location</th>\n",
       "      <th>Year built</th>\n",
       "    </tr>\n",
       "  </thead>\n",
       "  <tbody>\n",
       "    <tr>\n",
       "      <th>1530</th>\n",
       "      <td>Renault Triber</td>\n",
       "      <td>--</td>\n",
       "      <td>15001.0</td>\n",
       "      <td>--</td>\n",
       "      <td>Kochi</td>\n",
       "      <td>2020</td>\n",
       "    </tr>\n",
       "    <tr>\n",
       "      <th>2428</th>\n",
       "      <td>Mahindra Thar</td>\n",
       "      <td>DIESEL</td>\n",
       "      <td>70000.0</td>\n",
       "      <td>--</td>\n",
       "      <td>Kolhapur</td>\n",
       "      <td>2018</td>\n",
       "    </tr>\n",
       "    <tr>\n",
       "      <th>3197</th>\n",
       "      <td>Hyundai Verna</td>\n",
       "      <td>DIESEL</td>\n",
       "      <td>78500.0</td>\n",
       "      <td>1</td>\n",
       "      <td>Jalandhar</td>\n",
       "      <td>2013</td>\n",
       "    </tr>\n",
       "    <tr>\n",
       "      <th>3463</th>\n",
       "      <td>Tata Zest</td>\n",
       "      <td>PETROL</td>\n",
       "      <td>61000.0</td>\n",
       "      <td>1</td>\n",
       "      <td>Jaipur</td>\n",
       "      <td>2015</td>\n",
       "    </tr>\n",
       "    <tr>\n",
       "      <th>4420</th>\n",
       "      <td>Mahindra Xylo</td>\n",
       "      <td>DIESEL</td>\n",
       "      <td>52300.0</td>\n",
       "      <td>1</td>\n",
       "      <td>Chennai</td>\n",
       "      <td>2019</td>\n",
       "    </tr>\n",
       "    <tr>\n",
       "      <th>...</th>\n",
       "      <td>...</td>\n",
       "      <td>...</td>\n",
       "      <td>...</td>\n",
       "      <td>...</td>\n",
       "      <td>...</td>\n",
       "      <td>...</td>\n",
       "    </tr>\n",
       "    <tr>\n",
       "      <th>4645</th>\n",
       "      <td>Bmw 3 Series Gt</td>\n",
       "      <td>DIESEL</td>\n",
       "      <td>57000.0</td>\n",
       "      <td>3</td>\n",
       "      <td>Noida</td>\n",
       "      <td>2016</td>\n",
       "    </tr>\n",
       "    <tr>\n",
       "      <th>473</th>\n",
       "      <td>Mahindra Scorpio</td>\n",
       "      <td>DIESEL</td>\n",
       "      <td>52000.0</td>\n",
       "      <td>1</td>\n",
       "      <td>Delhi</td>\n",
       "      <td>2018</td>\n",
       "    </tr>\n",
       "    <tr>\n",
       "      <th>3184</th>\n",
       "      <td>Maruti Suzuki Omni</td>\n",
       "      <td>PETROL</td>\n",
       "      <td>12209.0</td>\n",
       "      <td>1</td>\n",
       "      <td>Bhikhiwind</td>\n",
       "      <td>2009</td>\n",
       "    </tr>\n",
       "    <tr>\n",
       "      <th>3917</th>\n",
       "      <td>Toyota Innova</td>\n",
       "      <td>DIESEL</td>\n",
       "      <td>127000.0</td>\n",
       "      <td>1</td>\n",
       "      <td>Hyderabad</td>\n",
       "      <td>2012</td>\n",
       "    </tr>\n",
       "    <tr>\n",
       "      <th>889</th>\n",
       "      <td>Maruti Suzuki Swift Dzire</td>\n",
       "      <td>DIESEL</td>\n",
       "      <td>48000.0</td>\n",
       "      <td>1</td>\n",
       "      <td>Faridabad</td>\n",
       "      <td>2016</td>\n",
       "    </tr>\n",
       "  </tbody>\n",
       "</table>\n",
       "<p>3000 rows × 6 columns</p>\n",
       "</div>"
      ],
      "text/plain": [
       "                           Model Fuel Type   Mileage Owner    Location  \\\n",
       "1530             Renault Triber         --   15001.0    --       Kochi   \n",
       "2428              Mahindra Thar     DIESEL   70000.0    --    Kolhapur   \n",
       "3197              Hyundai Verna     DIESEL   78500.0     1   Jalandhar   \n",
       "3463                  Tata Zest     PETROL   61000.0     1      Jaipur   \n",
       "4420              Mahindra Xylo     DIESEL   52300.0     1     Chennai   \n",
       "...                          ...       ...       ...   ...         ...   \n",
       "4645            Bmw 3 Series Gt     DIESEL   57000.0     3       Noida   \n",
       "473            Mahindra Scorpio     DIESEL   52000.0     1       Delhi   \n",
       "3184         Maruti Suzuki Omni     PETROL   12209.0     1  Bhikhiwind   \n",
       "3917              Toyota Innova     DIESEL  127000.0     1   Hyderabad   \n",
       "889   Maruti Suzuki Swift Dzire     DIESEL   48000.0     1   Faridabad   \n",
       "\n",
       "     Year built  \n",
       "1530       2020  \n",
       "2428       2018  \n",
       "3197       2013  \n",
       "3463       2015  \n",
       "4420       2019  \n",
       "...         ...  \n",
       "4645       2016  \n",
       "473        2018  \n",
       "3184       2009  \n",
       "3917       2012  \n",
       "889        2016  \n",
       "\n",
       "[3000 rows x 6 columns]"
      ]
     },
     "execution_count": 60,
     "metadata": {},
     "output_type": "execute_result"
    }
   ],
   "source": [
    "x_train"
   ]
  },
  {
   "cell_type": "code",
   "execution_count": 61,
   "id": "d439c285",
   "metadata": {},
   "outputs": [],
   "source": [
    "x_train['Mileage'] = np.cbrt(x_train['Mileage'])"
   ]
  },
  {
   "cell_type": "code",
   "execution_count": 62,
   "id": "1867353b",
   "metadata": {},
   "outputs": [
    {
     "data": {
      "text/html": [
       "<div>\n",
       "<style scoped>\n",
       "    .dataframe tbody tr th:only-of-type {\n",
       "        vertical-align: middle;\n",
       "    }\n",
       "\n",
       "    .dataframe tbody tr th {\n",
       "        vertical-align: top;\n",
       "    }\n",
       "\n",
       "    .dataframe thead th {\n",
       "        text-align: right;\n",
       "    }\n",
       "</style>\n",
       "<table border=\"1\" class=\"dataframe\">\n",
       "  <thead>\n",
       "    <tr style=\"text-align: right;\">\n",
       "      <th></th>\n",
       "      <th>Model</th>\n",
       "      <th>Fuel Type</th>\n",
       "      <th>Mileage</th>\n",
       "      <th>Owner</th>\n",
       "      <th>Location</th>\n",
       "      <th>Year built</th>\n",
       "    </tr>\n",
       "  </thead>\n",
       "  <tbody>\n",
       "    <tr>\n",
       "      <th>1530</th>\n",
       "      <td>Renault Triber</td>\n",
       "      <td>--</td>\n",
       "      <td>24.662669</td>\n",
       "      <td>--</td>\n",
       "      <td>Kochi</td>\n",
       "      <td>2020</td>\n",
       "    </tr>\n",
       "    <tr>\n",
       "      <th>2428</th>\n",
       "      <td>Mahindra Thar</td>\n",
       "      <td>DIESEL</td>\n",
       "      <td>41.212853</td>\n",
       "      <td>--</td>\n",
       "      <td>Kolhapur</td>\n",
       "      <td>2018</td>\n",
       "    </tr>\n",
       "    <tr>\n",
       "      <th>3197</th>\n",
       "      <td>Hyundai Verna</td>\n",
       "      <td>DIESEL</td>\n",
       "      <td>42.817689</td>\n",
       "      <td>1</td>\n",
       "      <td>Jalandhar</td>\n",
       "      <td>2013</td>\n",
       "    </tr>\n",
       "    <tr>\n",
       "      <th>3463</th>\n",
       "      <td>Tata Zest</td>\n",
       "      <td>PETROL</td>\n",
       "      <td>39.364972</td>\n",
       "      <td>1</td>\n",
       "      <td>Jaipur</td>\n",
       "      <td>2015</td>\n",
       "    </tr>\n",
       "    <tr>\n",
       "      <th>4420</th>\n",
       "      <td>Mahindra Xylo</td>\n",
       "      <td>DIESEL</td>\n",
       "      <td>37.396753</td>\n",
       "      <td>1</td>\n",
       "      <td>Chennai</td>\n",
       "      <td>2019</td>\n",
       "    </tr>\n",
       "    <tr>\n",
       "      <th>...</th>\n",
       "      <td>...</td>\n",
       "      <td>...</td>\n",
       "      <td>...</td>\n",
       "      <td>...</td>\n",
       "      <td>...</td>\n",
       "      <td>...</td>\n",
       "    </tr>\n",
       "    <tr>\n",
       "      <th>4645</th>\n",
       "      <td>Bmw 3 Series Gt</td>\n",
       "      <td>DIESEL</td>\n",
       "      <td>38.485011</td>\n",
       "      <td>3</td>\n",
       "      <td>Noida</td>\n",
       "      <td>2016</td>\n",
       "    </tr>\n",
       "    <tr>\n",
       "      <th>473</th>\n",
       "      <td>Mahindra Scorpio</td>\n",
       "      <td>DIESEL</td>\n",
       "      <td>37.325112</td>\n",
       "      <td>1</td>\n",
       "      <td>Delhi</td>\n",
       "      <td>2018</td>\n",
       "    </tr>\n",
       "    <tr>\n",
       "      <th>3184</th>\n",
       "      <td>Maruti Suzuki Omni</td>\n",
       "      <td>PETROL</td>\n",
       "      <td>23.026435</td>\n",
       "      <td>1</td>\n",
       "      <td>Bhikhiwind</td>\n",
       "      <td>2009</td>\n",
       "    </tr>\n",
       "    <tr>\n",
       "      <th>3917</th>\n",
       "      <td>Toyota Innova</td>\n",
       "      <td>DIESEL</td>\n",
       "      <td>50.265257</td>\n",
       "      <td>1</td>\n",
       "      <td>Hyderabad</td>\n",
       "      <td>2012</td>\n",
       "    </tr>\n",
       "    <tr>\n",
       "      <th>889</th>\n",
       "      <td>Maruti Suzuki Swift Dzire</td>\n",
       "      <td>DIESEL</td>\n",
       "      <td>36.342412</td>\n",
       "      <td>1</td>\n",
       "      <td>Faridabad</td>\n",
       "      <td>2016</td>\n",
       "    </tr>\n",
       "  </tbody>\n",
       "</table>\n",
       "<p>3000 rows × 6 columns</p>\n",
       "</div>"
      ],
      "text/plain": [
       "                           Model Fuel Type    Mileage Owner    Location  \\\n",
       "1530             Renault Triber         --  24.662669    --       Kochi   \n",
       "2428              Mahindra Thar     DIESEL  41.212853    --    Kolhapur   \n",
       "3197              Hyundai Verna     DIESEL  42.817689     1   Jalandhar   \n",
       "3463                  Tata Zest     PETROL  39.364972     1      Jaipur   \n",
       "4420              Mahindra Xylo     DIESEL  37.396753     1     Chennai   \n",
       "...                          ...       ...        ...   ...         ...   \n",
       "4645            Bmw 3 Series Gt     DIESEL  38.485011     3       Noida   \n",
       "473            Mahindra Scorpio     DIESEL  37.325112     1       Delhi   \n",
       "3184         Maruti Suzuki Omni     PETROL  23.026435     1  Bhikhiwind   \n",
       "3917              Toyota Innova     DIESEL  50.265257     1   Hyderabad   \n",
       "889   Maruti Suzuki Swift Dzire     DIESEL  36.342412     1   Faridabad   \n",
       "\n",
       "     Year built  \n",
       "1530       2020  \n",
       "2428       2018  \n",
       "3197       2013  \n",
       "3463       2015  \n",
       "4420       2019  \n",
       "...         ...  \n",
       "4645       2016  \n",
       "473        2018  \n",
       "3184       2009  \n",
       "3917       2012  \n",
       "889        2016  \n",
       "\n",
       "[3000 rows x 6 columns]"
      ]
     },
     "execution_count": 62,
     "metadata": {},
     "output_type": "execute_result"
    }
   ],
   "source": [
    "x_train"
   ]
  },
  {
   "cell_type": "code",
   "execution_count": 63,
   "id": "064b7a45",
   "metadata": {},
   "outputs": [
    {
     "data": {
      "text/plain": [
       "Model          object\n",
       "Fuel Type      object\n",
       "Mileage       float64\n",
       "Owner          object\n",
       "Location       object\n",
       "Year built     object\n",
       "dtype: object"
      ]
     },
     "execution_count": 63,
     "metadata": {},
     "output_type": "execute_result"
    }
   ],
   "source": [
    "x_train.dtypes"
   ]
  },
  {
   "cell_type": "markdown",
   "id": "1abc5e5e",
   "metadata": {},
   "source": [
    "#### Filling missing values"
   ]
  },
  {
   "cell_type": "code",
   "execution_count": 64,
   "id": "e01f2cbd",
   "metadata": {},
   "outputs": [
    {
     "data": {
      "text/plain": [
       "Model           0\n",
       "Fuel Type      31\n",
       "Mileage         0\n",
       "Owner         116\n",
       "Location        0\n",
       "Year built      0\n",
       "dtype: int64"
      ]
     },
     "execution_count": 64,
     "metadata": {},
     "output_type": "execute_result"
    }
   ],
   "source": [
    "x_train.isin(['--']).sum()"
   ]
  },
  {
   "cell_type": "code",
   "execution_count": 65,
   "id": "5c871d45",
   "metadata": {},
   "outputs": [],
   "source": [
    "from sklearn.impute import SimpleImputer\n",
    "imputer = SimpleImputer(missing_values='--',strategy='most_frequent')"
   ]
  },
  {
   "cell_type": "code",
   "execution_count": 66,
   "id": "48561d06",
   "metadata": {},
   "outputs": [],
   "source": [
    "x_train['Fuel Type'] = imputer.fit_transform(x_train['Fuel Type'].values.reshape(-1,1))\n",
    "x_train['Owner'] = imputer.fit_transform(x_train['Owner'].values.reshape(-1,1))"
   ]
  },
  {
   "cell_type": "code",
   "execution_count": 67,
   "id": "92fbb70b",
   "metadata": {},
   "outputs": [
    {
     "data": {
      "text/plain": [
       "Model         0\n",
       "Fuel Type     0\n",
       "Mileage       0\n",
       "Owner         0\n",
       "Location      0\n",
       "Year built    0\n",
       "dtype: int64"
      ]
     },
     "execution_count": 67,
     "metadata": {},
     "output_type": "execute_result"
    }
   ],
   "source": [
    "x_train.isin(['--']).sum()"
   ]
  },
  {
   "cell_type": "code",
   "execution_count": 68,
   "id": "c6d4d485",
   "metadata": {},
   "outputs": [
    {
     "data": {
      "text/plain": [
       "Model          object\n",
       "Fuel Type      object\n",
       "Mileage       float64\n",
       "Owner          object\n",
       "Location       object\n",
       "Year built     object\n",
       "dtype: object"
      ]
     },
     "execution_count": 68,
     "metadata": {},
     "output_type": "execute_result"
    }
   ],
   "source": [
    "x_train.dtypes"
   ]
  },
  {
   "cell_type": "markdown",
   "id": "1ba94baf",
   "metadata": {},
   "source": [
    "**We have removed the missing values from the dataset which were in the format of '--'.**"
   ]
  },
  {
   "cell_type": "markdown",
   "id": "b79459e5",
   "metadata": {},
   "source": [
    "#### Label Encoding"
   ]
  },
  {
   "cell_type": "code",
   "execution_count": 69,
   "id": "4741538d",
   "metadata": {},
   "outputs": [],
   "source": [
    "from sklearn.preprocessing import LabelEncoder\n",
    "le = LabelEncoder()"
   ]
  },
  {
   "cell_type": "code",
   "execution_count": 70,
   "id": "4eb32976",
   "metadata": {},
   "outputs": [
    {
     "data": {
      "text/html": [
       "<div>\n",
       "<style scoped>\n",
       "    .dataframe tbody tr th:only-of-type {\n",
       "        vertical-align: middle;\n",
       "    }\n",
       "\n",
       "    .dataframe tbody tr th {\n",
       "        vertical-align: top;\n",
       "    }\n",
       "\n",
       "    .dataframe thead th {\n",
       "        text-align: right;\n",
       "    }\n",
       "</style>\n",
       "<table border=\"1\" class=\"dataframe\">\n",
       "  <thead>\n",
       "    <tr style=\"text-align: right;\">\n",
       "      <th></th>\n",
       "      <th>Model</th>\n",
       "      <th>Fuel Type</th>\n",
       "      <th>Mileage</th>\n",
       "      <th>Owner</th>\n",
       "      <th>Location</th>\n",
       "      <th>Year built</th>\n",
       "    </tr>\n",
       "  </thead>\n",
       "  <tbody>\n",
       "    <tr>\n",
       "      <th>1530</th>\n",
       "      <td>Renault Triber</td>\n",
       "      <td>DIESEL</td>\n",
       "      <td>24.662669</td>\n",
       "      <td>1</td>\n",
       "      <td>Kochi</td>\n",
       "      <td>2020</td>\n",
       "    </tr>\n",
       "    <tr>\n",
       "      <th>2428</th>\n",
       "      <td>Mahindra Thar</td>\n",
       "      <td>DIESEL</td>\n",
       "      <td>41.212853</td>\n",
       "      <td>1</td>\n",
       "      <td>Kolhapur</td>\n",
       "      <td>2018</td>\n",
       "    </tr>\n",
       "    <tr>\n",
       "      <th>3197</th>\n",
       "      <td>Hyundai Verna</td>\n",
       "      <td>DIESEL</td>\n",
       "      <td>42.817689</td>\n",
       "      <td>1</td>\n",
       "      <td>Jalandhar</td>\n",
       "      <td>2013</td>\n",
       "    </tr>\n",
       "  </tbody>\n",
       "</table>\n",
       "</div>"
      ],
      "text/plain": [
       "                Model Fuel Type    Mileage Owner   Location Year built\n",
       "1530  Renault Triber     DIESEL  24.662669     1      Kochi       2020\n",
       "2428   Mahindra Thar     DIESEL  41.212853     1   Kolhapur       2018\n",
       "3197   Hyundai Verna     DIESEL  42.817689     1  Jalandhar       2013"
      ]
     },
     "execution_count": 70,
     "metadata": {},
     "output_type": "execute_result"
    }
   ],
   "source": [
    "x_train.head(3)"
   ]
  },
  {
   "cell_type": "code",
   "execution_count": 71,
   "id": "5a5a4dd2",
   "metadata": {},
   "outputs": [
    {
     "data": {
      "text/plain": [
       "Model          object\n",
       "Fuel Type      object\n",
       "Mileage       float64\n",
       "Owner          object\n",
       "Location       object\n",
       "Year built     object\n",
       "dtype: object"
      ]
     },
     "execution_count": 71,
     "metadata": {},
     "output_type": "execute_result"
    }
   ],
   "source": [
    "x_train.dtypes"
   ]
  },
  {
   "cell_type": "code",
   "execution_count": 72,
   "id": "be4e78a7",
   "metadata": {},
   "outputs": [
    {
     "data": {
      "text/plain": [
       "['Model', 'Fuel Type', 'Owner', 'Location', 'Year built']"
      ]
     },
     "execution_count": 72,
     "metadata": {},
     "output_type": "execute_result"
    }
   ],
   "source": [
    "cat_cols = []\n",
    "for col in x_train.columns:\n",
    "    if x_train[col].dtypes == 'object':\n",
    "        cat_cols.append(col)\n",
    "cat_cols"
   ]
  },
  {
   "cell_type": "code",
   "execution_count": 73,
   "id": "8f283114",
   "metadata": {},
   "outputs": [
    {
     "data": {
      "text/html": [
       "<div>\n",
       "<style scoped>\n",
       "    .dataframe tbody tr th:only-of-type {\n",
       "        vertical-align: middle;\n",
       "    }\n",
       "\n",
       "    .dataframe tbody tr th {\n",
       "        vertical-align: top;\n",
       "    }\n",
       "\n",
       "    .dataframe thead th {\n",
       "        text-align: right;\n",
       "    }\n",
       "</style>\n",
       "<table border=\"1\" class=\"dataframe\">\n",
       "  <thead>\n",
       "    <tr style=\"text-align: right;\">\n",
       "      <th></th>\n",
       "      <th>Model</th>\n",
       "      <th>Fuel Type</th>\n",
       "      <th>Mileage</th>\n",
       "      <th>Owner</th>\n",
       "      <th>Location</th>\n",
       "      <th>Year built</th>\n",
       "    </tr>\n",
       "  </thead>\n",
       "  <tbody>\n",
       "    <tr>\n",
       "      <th>1530</th>\n",
       "      <td>207</td>\n",
       "      <td>2</td>\n",
       "      <td>24.662669</td>\n",
       "      <td>0</td>\n",
       "      <td>224</td>\n",
       "      <td>37</td>\n",
       "    </tr>\n",
       "    <tr>\n",
       "      <th>2428</th>\n",
       "      <td>123</td>\n",
       "      <td>2</td>\n",
       "      <td>41.212853</td>\n",
       "      <td>0</td>\n",
       "      <td>229</td>\n",
       "      <td>35</td>\n",
       "    </tr>\n",
       "    <tr>\n",
       "      <th>3197</th>\n",
       "      <td>94</td>\n",
       "      <td>2</td>\n",
       "      <td>42.817689</td>\n",
       "      <td>0</td>\n",
       "      <td>185</td>\n",
       "      <td>30</td>\n",
       "    </tr>\n",
       "    <tr>\n",
       "      <th>3463</th>\n",
       "      <td>243</td>\n",
       "      <td>5</td>\n",
       "      <td>39.364972</td>\n",
       "      <td>0</td>\n",
       "      <td>181</td>\n",
       "      <td>32</td>\n",
       "    </tr>\n",
       "    <tr>\n",
       "      <th>4420</th>\n",
       "      <td>128</td>\n",
       "      <td>2</td>\n",
       "      <td>37.396753</td>\n",
       "      <td>0</td>\n",
       "      <td>84</td>\n",
       "      <td>36</td>\n",
       "    </tr>\n",
       "    <tr>\n",
       "      <th>...</th>\n",
       "      <td>...</td>\n",
       "      <td>...</td>\n",
       "      <td>...</td>\n",
       "      <td>...</td>\n",
       "      <td>...</td>\n",
       "      <td>...</td>\n",
       "    </tr>\n",
       "    <tr>\n",
       "      <th>4645</th>\n",
       "      <td>12</td>\n",
       "      <td>2</td>\n",
       "      <td>38.485011</td>\n",
       "      <td>2</td>\n",
       "      <td>329</td>\n",
       "      <td>33</td>\n",
       "    </tr>\n",
       "    <tr>\n",
       "      <th>473</th>\n",
       "      <td>122</td>\n",
       "      <td>2</td>\n",
       "      <td>37.325112</td>\n",
       "      <td>0</td>\n",
       "      <td>108</td>\n",
       "      <td>35</td>\n",
       "    </tr>\n",
       "    <tr>\n",
       "      <th>3184</th>\n",
       "      <td>146</td>\n",
       "      <td>5</td>\n",
       "      <td>23.026435</td>\n",
       "      <td>0</td>\n",
       "      <td>58</td>\n",
       "      <td>26</td>\n",
       "    </tr>\n",
       "    <tr>\n",
       "      <th>3917</th>\n",
       "      <td>252</td>\n",
       "      <td>2</td>\n",
       "      <td>50.265257</td>\n",
       "      <td>0</td>\n",
       "      <td>169</td>\n",
       "      <td>29</td>\n",
       "    </tr>\n",
       "    <tr>\n",
       "      <th>889</th>\n",
       "      <td>153</td>\n",
       "      <td>2</td>\n",
       "      <td>36.342412</td>\n",
       "      <td>0</td>\n",
       "      <td>129</td>\n",
       "      <td>33</td>\n",
       "    </tr>\n",
       "  </tbody>\n",
       "</table>\n",
       "<p>3000 rows × 6 columns</p>\n",
       "</div>"
      ],
      "text/plain": [
       "      Model  Fuel Type    Mileage  Owner  Location  Year built\n",
       "1530    207          2  24.662669      0       224          37\n",
       "2428    123          2  41.212853      0       229          35\n",
       "3197     94          2  42.817689      0       185          30\n",
       "3463    243          5  39.364972      0       181          32\n",
       "4420    128          2  37.396753      0        84          36\n",
       "...     ...        ...        ...    ...       ...         ...\n",
       "4645     12          2  38.485011      2       329          33\n",
       "473     122          2  37.325112      0       108          35\n",
       "3184    146          5  23.026435      0        58          26\n",
       "3917    252          2  50.265257      0       169          29\n",
       "889     153          2  36.342412      0       129          33\n",
       "\n",
       "[3000 rows x 6 columns]"
      ]
     },
     "execution_count": 73,
     "metadata": {},
     "output_type": "execute_result"
    }
   ],
   "source": [
    "for col in cat_cols:\n",
    "    x_train[col] = le.fit_transform(x_train[col].astype(str))\n",
    "x_train"
   ]
  },
  {
   "cell_type": "markdown",
   "id": "da6c2250",
   "metadata": {},
   "source": [
    "### Features Scaling"
   ]
  },
  {
   "cell_type": "code",
   "execution_count": 74,
   "id": "928f2bca",
   "metadata": {},
   "outputs": [],
   "source": [
    "from sklearn.preprocessing import StandardScaler\n",
    "s = StandardScaler()"
   ]
  },
  {
   "cell_type": "code",
   "execution_count": 75,
   "id": "cf630eac",
   "metadata": {},
   "outputs": [],
   "source": [
    "for col in x_train.columns:\n",
    "    x_train[col] = s.fit_transform(x_train[col].values.reshape(-1,1))"
   ]
  },
  {
   "cell_type": "code",
   "execution_count": 76,
   "id": "5e4e6be4",
   "metadata": {},
   "outputs": [
    {
     "data": {
      "text/html": [
       "<div>\n",
       "<style scoped>\n",
       "    .dataframe tbody tr th:only-of-type {\n",
       "        vertical-align: middle;\n",
       "    }\n",
       "\n",
       "    .dataframe tbody tr th {\n",
       "        vertical-align: top;\n",
       "    }\n",
       "\n",
       "    .dataframe thead th {\n",
       "        text-align: right;\n",
       "    }\n",
       "</style>\n",
       "<table border=\"1\" class=\"dataframe\">\n",
       "  <thead>\n",
       "    <tr style=\"text-align: right;\">\n",
       "      <th></th>\n",
       "      <th>Model</th>\n",
       "      <th>Fuel Type</th>\n",
       "      <th>Mileage</th>\n",
       "      <th>Owner</th>\n",
       "      <th>Location</th>\n",
       "      <th>Year built</th>\n",
       "    </tr>\n",
       "  </thead>\n",
       "  <tbody>\n",
       "    <tr>\n",
       "      <th>1530</th>\n",
       "      <td>1.095752</td>\n",
       "      <td>-0.781377</td>\n",
       "      <td>-1.284257</td>\n",
       "      <td>-0.66198</td>\n",
       "      <td>0.166387</td>\n",
       "      <td>1.419557</td>\n",
       "    </tr>\n",
       "    <tr>\n",
       "      <th>2428</th>\n",
       "      <td>-0.157923</td>\n",
       "      <td>-0.781377</td>\n",
       "      <td>0.196016</td>\n",
       "      <td>-0.66198</td>\n",
       "      <td>0.203561</td>\n",
       "      <td>1.020057</td>\n",
       "    </tr>\n",
       "    <tr>\n",
       "      <th>3197</th>\n",
       "      <td>-0.590740</td>\n",
       "      <td>-0.781377</td>\n",
       "      <td>0.339555</td>\n",
       "      <td>-0.66198</td>\n",
       "      <td>-0.123564</td>\n",
       "      <td>0.021307</td>\n",
       "    </tr>\n",
       "  </tbody>\n",
       "</table>\n",
       "</div>"
      ],
      "text/plain": [
       "         Model  Fuel Type   Mileage    Owner  Location  Year built\n",
       "1530  1.095752  -0.781377 -1.284257 -0.66198  0.166387    1.419557\n",
       "2428 -0.157923  -0.781377  0.196016 -0.66198  0.203561    1.020057\n",
       "3197 -0.590740  -0.781377  0.339555 -0.66198 -0.123564    0.021307"
      ]
     },
     "execution_count": 76,
     "metadata": {},
     "output_type": "execute_result"
    }
   ],
   "source": [
    "x_train.head(3)"
   ]
  },
  {
   "cell_type": "markdown",
   "id": "cdcdc4e8",
   "metadata": {},
   "source": [
    "### Modelling"
   ]
  },
  {
   "cell_type": "code",
   "execution_count": 77,
   "id": "bcf7ec6b",
   "metadata": {},
   "outputs": [],
   "source": [
    "# for linear regression\n",
    "from sklearn.linear_model import LinearRegression\n",
    "# for metrics\n",
    "from sklearn.metrics import mean_squared_error,mean_absolute_error,r2_score"
   ]
  },
  {
   "cell_type": "code",
   "execution_count": 78,
   "id": "57755e57",
   "metadata": {},
   "outputs": [],
   "source": [
    "from sklearn.model_selection import cross_val_score"
   ]
  },
  {
   "cell_type": "markdown",
   "id": "73e86518",
   "metadata": {},
   "source": [
    "#### cross validation scores for linear regressor"
   ]
  },
  {
   "cell_type": "code",
   "execution_count": 80,
   "id": "dabacde6",
   "metadata": {},
   "outputs": [
    {
     "name": "stdout",
     "output_type": "stream",
     "text": [
      "\n",
      " The absolute mean score we got from 10-Fold CV: 0.15954503773455872\n"
     ]
    }
   ],
   "source": [
    "lr= LinearRegression()\n",
    "lr_cv = cross_val_score(lr, x_train, y_train, cv=10)\n",
    "\n",
    "print('\\n The absolute mean score we got from 10-Fold CV:',np.mean(lr_cv))"
   ]
  },
  {
   "cell_type": "markdown",
   "id": "946e68a3",
   "metadata": {},
   "source": [
    "#### cross validation score for Decision Tree regressor"
   ]
  },
  {
   "cell_type": "code",
   "execution_count": 81,
   "id": "41490a7e",
   "metadata": {},
   "outputs": [
    {
     "name": "stdout",
     "output_type": "stream",
     "text": [
      "\n",
      " The absolute mean score we got from 10-Fold CV: 0.06370389157544927\n"
     ]
    }
   ],
   "source": [
    "from sklearn.tree import DecisionTreeRegressor\n",
    "from sklearn.model_selection import cross_val_score\n",
    "\n",
    "dtr = DecisionTreeRegressor()\n",
    "\n",
    "dtr_cv = cross_val_score(dtr,x_train,y_train,cv=10)\n",
    "\n",
    "print('\\n The absolute mean score we got from 10-Fold CV:',np.mean(dtr_cv))"
   ]
  },
  {
   "cell_type": "markdown",
   "id": "674ce860",
   "metadata": {},
   "source": [
    "#### cross validation score for Random Forest Regressor"
   ]
  },
  {
   "cell_type": "code",
   "execution_count": 82,
   "id": "12aed415",
   "metadata": {},
   "outputs": [
    {
     "data": {
      "text/plain": [
       "RF CV Score     0.593566\n",
       "n estimator    49.000000\n",
       "dtype: float64"
      ]
     },
     "execution_count": 82,
     "metadata": {},
     "output_type": "execute_result"
    }
   ],
   "source": [
    "from sklearn.ensemble import RandomForestRegressor\n",
    "\n",
    "rfr_cross_val=[]\n",
    "rfr_n_estimators=[]\n",
    "\n",
    "for i in range(10,50):\n",
    "    rfr=RandomForestRegressor(n_estimators=i)\n",
    "    rfr_n_estimators.append(i)\n",
    "    rfr_cross_val.append(cross_val_score(rfr,x_train,y_train,cv=10).mean())\n",
    "    \n",
    "rf_cv=pd.DataFrame({})\n",
    "rf_cv[\"RF CV Score\"]=rfr_cross_val\n",
    "rf_cv['n estimator']=rfr_n_estimators\n",
    "\n",
    "rf_cv.max()"
   ]
  },
  {
   "cell_type": "markdown",
   "id": "f97cb23e",
   "metadata": {},
   "source": [
    "#### comparing cross val scores"
   ]
  },
  {
   "cell_type": "code",
   "execution_count": 83,
   "id": "4b4c2d22",
   "metadata": {},
   "outputs": [],
   "source": [
    "results1=[]\n",
    "results1.clear()\n",
    "results1.append(lr_cv)\n",
    "results1.append(dtr_cv)\n",
    "results1.append(rf_cv['RF CV Score'])\n",
    "\n",
    "names1=[]\n",
    "names1.clear()\n",
    "names1.append(\"Linear Regression\")\n",
    "names1.append(\"Decision Tree Regressor\")\n",
    "names1.append(\"Random Forest Regressor\")"
   ]
  },
  {
   "cell_type": "code",
   "execution_count": 84,
   "id": "6b43ba97",
   "metadata": {},
   "outputs": [
    {
     "data": {
      "image/png": "[encoded data removed]",
      "text/plain": [
       "<Figure size 1008x576 with 1 Axes>"
      ]
     },
     "metadata": {
      "needs_background": "light"
     },
     "output_type": "display_data"
    }
   ],
   "source": [
    "fig = plt.figure(figsize=(14,8))\n",
    "ax = fig.add_subplot(111)\n",
    "fig.suptitle('Algorithm Comparison')\n",
    "plt.boxplot(results1)\n",
    "ax.set_xticklabels(names1)\n",
    "plt.show()"
   ]
  },
  {
   "cell_type": "markdown",
   "id": "8b7f1b99",
   "metadata": {},
   "source": [
    "**We will go ahead with Random Forest Regressor.**"
   ]
  },
  {
   "cell_type": "code",
   "execution_count": 86,
   "id": "86fe3abb",
   "metadata": {},
   "outputs": [
    {
     "name": "stdout",
     "output_type": "stream",
     "text": [
      "0.5197505977809366\n",
      "100\n",
      "{'n_estimators': 100}\n"
     ]
    }
   ],
   "source": [
    "from sklearn.model_selection import GridSearchCV\n",
    "\n",
    "model=RandomForestRegressor()\n",
    "\n",
    "param={'n_estimators':[10,50,100]}\n",
    "\n",
    "grid=GridSearchCV(estimator=model,param_grid=param)\n",
    "\n",
    "grid.fit(x_train,y_train)\n",
    "\n",
    "print(grid.best_score_)\n",
    "print(grid.best_estimator_.n_estimators)\n",
    "print(grid.best_params_)"
   ]
  },
  {
   "cell_type": "markdown",
   "id": "1052bac5",
   "metadata": {},
   "source": [
    "### Testing"
   ]
  },
  {
   "cell_type": "code",
   "execution_count": 89,
   "id": "8f705caa",
   "metadata": {},
   "outputs": [
    {
     "data": {
      "text/plain": [
       "RandomForestRegressor()"
      ]
     },
     "execution_count": 89,
     "metadata": {},
     "output_type": "execute_result"
    }
   ],
   "source": [
    "regressor = RandomForestRegressor(n_estimators=100)\n",
    "regressor.fit(x_train,y_train)"
   ]
  },
  {
   "cell_type": "code",
   "execution_count": 111,
   "id": "c69434fd",
   "metadata": {},
   "outputs": [
    {
     "data": {
      "text/plain": [
       "(1478, 6)"
      ]
     },
     "execution_count": 111,
     "metadata": {},
     "output_type": "execute_result"
    }
   ],
   "source": [
    "x_test.shape"
   ]
  },
  {
   "cell_type": "code",
   "execution_count": 91,
   "id": "b4a75ada",
   "metadata": {},
   "outputs": [
    {
     "data": {
      "text/plain": [
       "4172    128005.0\n",
       "3118       40000\n",
       "1951     36766.0\n",
       "Name: Mileage, dtype: object"
      ]
     },
     "execution_count": 91,
     "metadata": {},
     "output_type": "execute_result"
    }
   ],
   "source": [
    "for i in x_test['Mileage'].index:\n",
    "    if ',' in x_test['Mileage'][i].split(' ')[0]:\n",
    "        x_test['Mileage'][i] = x_test['Mileage'][i].split(' ')[0].replace(',','')\n",
    "    else:\n",
    "        x_test['Mileage'][i] = x_test['Mileage'][i].split(' ')[0]\n",
    "x_test['Mileage'].head(3)"
   ]
  },
  {
   "cell_type": "code",
   "execution_count": 92,
   "id": "fddf7049",
   "metadata": {},
   "outputs": [
    {
     "data": {
      "text/plain": [
       "4172    1820000\n",
       "3118     700000\n",
       "1951     420000\n",
       "595      185000\n",
       "4454     460000\n",
       "         ...   \n",
       "285      885000\n",
       "981      330000\n",
       "2780     130000\n",
       "1853    2650000\n",
       "2717     120000\n",
       "Name: Price, Length: 1478, dtype: object"
      ]
     },
     "execution_count": 92,
     "metadata": {},
     "output_type": "execute_result"
    }
   ],
   "source": [
    "for i in y_test.index:\n",
    "    if ',' in y_test[i]:\n",
    "        y_test[i] = y_test[i].split(' ')[-1].replace(',','')\n",
    "    else:\n",
    "        y_test[i] = y_test[i].split(' ')[-1]\n",
    "y_test"
   ]
  },
  {
   "cell_type": "code",
   "execution_count": 93,
   "id": "9e0d68cc",
   "metadata": {},
   "outputs": [],
   "source": [
    "x_test['Mileage'] = pd.to_numeric(x_test['Mileage'])"
   ]
  },
  {
   "cell_type": "code",
   "execution_count": 94,
   "id": "6884c424",
   "metadata": {},
   "outputs": [],
   "source": [
    "y_test = pd.to_numeric(y_test)"
   ]
  },
  {
   "cell_type": "code",
   "execution_count": 95,
   "id": "b71cab58",
   "metadata": {},
   "outputs": [],
   "source": [
    "built_year = []\n",
    "for i in x_test.index:\n",
    "    built_year.append(x_test['Model'][i].split('(')[-1].split(')')[0])\n",
    "    x_test['Model'][i] = x_test['Model'][i].split('(')[0]\n",
    "x_test['Year built'] = built_year"
   ]
  },
  {
   "cell_type": "code",
   "execution_count": 96,
   "id": "bf3414d9",
   "metadata": {},
   "outputs": [
    {
     "data": {
      "text/plain": [
       "Index(['Model', 'Fuel Type', 'Mileage', 'Owner', 'Location', 'Year built'], dtype='object')"
      ]
     },
     "execution_count": 96,
     "metadata": {},
     "output_type": "execute_result"
    }
   ],
   "source": [
    "x_test.columns"
   ]
  },
  {
   "cell_type": "code",
   "execution_count": 97,
   "id": "f29de019",
   "metadata": {},
   "outputs": [],
   "source": [
    "for i in x_test.index:\n",
    "    x_test['Location'][i] = x_test['Location'][i].split(',')[-1].strip()"
   ]
  },
  {
   "cell_type": "code",
   "execution_count": 99,
   "id": "c26e0e04",
   "metadata": {},
   "outputs": [],
   "source": [
    "for i in x_test.index:\n",
    "    if x_test['Owner'][i] in ('1st','First') :\n",
    "        x_test['Owner'][i] = 1\n",
    "    elif x_test['Owner'][i] in ('2nd','Second'):\n",
    "        x_test['Owner'][i] = 2\n",
    "    elif x_test['Owner'][i] == '3rd':\n",
    "        x_test['Owner'][i] = 3\n",
    "    elif x_test['Owner'][i] == '4th':\n",
    "        x_test['Owner'][i] = 4\n",
    "    elif x_test['Owner'][i] == '4+':\n",
    "        x_test['Owner'][i] = 5"
   ]
  },
  {
   "cell_type": "code",
   "execution_count": 100,
   "id": "f98e277a",
   "metadata": {},
   "outputs": [
    {
     "name": "stdout",
     "output_type": "stream",
     "text": [
      "Numerical columns: ['Mileage']\n"
     ]
    }
   ],
   "source": [
    "numerical_cols = []\n",
    "for col in x_test.columns:\n",
    "    if x_test[col].dtypes != 'object':\n",
    "        numerical_cols.append(col)\n",
    "print(\"Numerical columns: {}\".format(numerical_cols))"
   ]
  },
  {
   "cell_type": "code",
   "execution_count": 101,
   "id": "30c682e3",
   "metadata": {},
   "outputs": [],
   "source": [
    "x_test['Mileage'] = np.cbrt(x_test['Mileage'])"
   ]
  },
  {
   "cell_type": "code",
   "execution_count": 103,
   "id": "dfab823b",
   "metadata": {},
   "outputs": [],
   "source": [
    "x_test['Fuel Type'] = imputer.fit_transform(x_test['Fuel Type'].values.reshape(-1,1))\n",
    "x_test['Owner'] = imputer.fit_transform(x_test['Owner'].values.reshape(-1,1))"
   ]
  },
  {
   "cell_type": "code",
   "execution_count": 105,
   "id": "2bc49f5f",
   "metadata": {},
   "outputs": [
    {
     "data": {
      "text/plain": [
       "['Model', 'Fuel Type', 'Owner', 'Location', 'Year built']"
      ]
     },
     "execution_count": 105,
     "metadata": {},
     "output_type": "execute_result"
    }
   ],
   "source": [
    "cat_cols = []\n",
    "for col in x_test.columns:\n",
    "    if x_test[col].dtypes == 'object':\n",
    "        cat_cols.append(col)\n",
    "cat_cols"
   ]
  },
  {
   "cell_type": "code",
   "execution_count": 107,
   "id": "10675a73",
   "metadata": {},
   "outputs": [],
   "source": [
    "for col in cat_cols:\n",
    "    x_test[col] = le.fit_transform(x_test[col].astype(str))"
   ]
  },
  {
   "cell_type": "code",
   "execution_count": 109,
   "id": "5f0edab1",
   "metadata": {},
   "outputs": [],
   "source": [
    "for col in x_test.columns:\n",
    "    x_test[col] = s.fit_transform(x_test[col].values.reshape(-1,1))"
   ]
  },
  {
   "cell_type": "code",
   "execution_count": 113,
   "id": "d369f1ef",
   "metadata": {},
   "outputs": [],
   "source": [
    "y_pred = regressor.predict(x_test)"
   ]
  },
  {
   "cell_type": "code",
   "execution_count": 114,
   "id": "b513044d",
   "metadata": {},
   "outputs": [
    {
     "data": {
      "text/html": [
       "<div>\n",
       "<style scoped>\n",
       "    .dataframe tbody tr th:only-of-type {\n",
       "        vertical-align: middle;\n",
       "    }\n",
       "\n",
       "    .dataframe tbody tr th {\n",
       "        vertical-align: top;\n",
       "    }\n",
       "\n",
       "    .dataframe thead th {\n",
       "        text-align: right;\n",
       "    }\n",
       "</style>\n",
       "<table border=\"1\" class=\"dataframe\">\n",
       "  <thead>\n",
       "    <tr style=\"text-align: right;\">\n",
       "      <th></th>\n",
       "      <th>Real</th>\n",
       "      <th>Predicted</th>\n",
       "    </tr>\n",
       "  </thead>\n",
       "  <tbody>\n",
       "    <tr>\n",
       "      <th>4172</th>\n",
       "      <td>1820000</td>\n",
       "      <td>1916749.91</td>\n",
       "    </tr>\n",
       "    <tr>\n",
       "      <th>3118</th>\n",
       "      <td>700000</td>\n",
       "      <td>1767338.01</td>\n",
       "    </tr>\n",
       "    <tr>\n",
       "      <th>1951</th>\n",
       "      <td>420000</td>\n",
       "      <td>353213.00</td>\n",
       "    </tr>\n",
       "    <tr>\n",
       "      <th>595</th>\n",
       "      <td>185000</td>\n",
       "      <td>196549.00</td>\n",
       "    </tr>\n",
       "    <tr>\n",
       "      <th>4454</th>\n",
       "      <td>460000</td>\n",
       "      <td>542360.00</td>\n",
       "    </tr>\n",
       "    <tr>\n",
       "      <th>...</th>\n",
       "      <td>...</td>\n",
       "      <td>...</td>\n",
       "    </tr>\n",
       "    <tr>\n",
       "      <th>285</th>\n",
       "      <td>885000</td>\n",
       "      <td>509705.03</td>\n",
       "    </tr>\n",
       "    <tr>\n",
       "      <th>981</th>\n",
       "      <td>330000</td>\n",
       "      <td>376432.25</td>\n",
       "    </tr>\n",
       "    <tr>\n",
       "      <th>2780</th>\n",
       "      <td>130000</td>\n",
       "      <td>326019.99</td>\n",
       "    </tr>\n",
       "    <tr>\n",
       "      <th>1853</th>\n",
       "      <td>2650000</td>\n",
       "      <td>2050963.33</td>\n",
       "    </tr>\n",
       "    <tr>\n",
       "      <th>2717</th>\n",
       "      <td>120000</td>\n",
       "      <td>204509.99</td>\n",
       "    </tr>\n",
       "  </tbody>\n",
       "</table>\n",
       "<p>1478 rows × 2 columns</p>\n",
       "</div>"
      ],
      "text/plain": [
       "         Real   Predicted\n",
       "4172  1820000  1916749.91\n",
       "3118   700000  1767338.01\n",
       "1951   420000   353213.00\n",
       "595    185000   196549.00\n",
       "4454   460000   542360.00\n",
       "...       ...         ...\n",
       "285    885000   509705.03\n",
       "981    330000   376432.25\n",
       "2780   130000   326019.99\n",
       "1853  2650000  2050963.33\n",
       "2717   120000   204509.99\n",
       "\n",
       "[1478 rows x 2 columns]"
      ]
     },
     "execution_count": 114,
     "metadata": {},
     "output_type": "execute_result"
    }
   ],
   "source": [
    "df_result = pd.DataFrame({'Real':y_test,'Predicted':y_pred})\n",
    "df_result"
   ]
  },
  {
   "cell_type": "code",
   "execution_count": null,
   "id": "1863cb5d",
   "metadata": {},
   "outputs": [],
   "source": [
    "# pipeline\n",
    "# estimators = []\n",
    "# estimators.append(('imputer',imputer))\n",
    "# estimators.append(('encoder',le))\n",
    "# estimators.append(('scaler',s))"
   ]
  }
 ],
 "metadata": {
  "kernelspec": {
   "display_name": "Python 3 (ipykernel)",
   "language": "python",
   "name": "python3"
  },
  "language_info": {
   "codemirror_mode": {
    "name": "ipython",
    "version": 3
   },
   "file_extension": ".py",
   "mimetype": "text/x-python",
   "name": "python",
   "nbconvert_exporter": "python",
   "pygments_lexer": "ipython3",
   "version": "3.8.11"
  }
 },
 "nbformat": 4,
 "nbformat_minor": 5
}
